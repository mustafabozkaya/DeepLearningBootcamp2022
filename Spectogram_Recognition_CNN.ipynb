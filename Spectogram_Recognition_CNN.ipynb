{
  "nbformat": 4,
  "nbformat_minor": 0,
  "metadata": {
    "colab": {
      "provenance": [],
      "collapsed_sections": [],
      "include_colab_link": true
    },
    "kernelspec": {
      "name": "python3",
      "display_name": "Python 3"
    },
    "accelerator": "GPU"
  },
  "cells": [
    {
      "cell_type": "markdown",
      "metadata": {
        "id": "view-in-github",
        "colab_type": "text"
      },
      "source": [
        "<a href=\"https://colab.research.google.com/github/mustafabozkaya/DeepLearningBootcamp2022/blob/master/Spectogram_Recognition_CNN.ipynb\" target=\"_parent\"><img src=\"https://colab.research.google.com/assets/colab-badge.svg\" alt=\"Open In Colab\"/></a>"
      ]
    },
    {
      "cell_type": "markdown",
      "source": [
        "[<img align=\"Left\" width=\"100\" height=\"100\" src=\"https://thumbs.dreamstime.com/b/mb-initial-letter-vector-logo-icon-mb-initial-letter-vector-logo-icon-204517753.jpg\">](https://github.com/mustafabozkaya)"
      ],
      "metadata": {
        "id": "0tQXZ7fatOXo"
      }
    },
    {
      "cell_type": "markdown",
      "metadata": {
        "id": "FIOQmr47UV4n"
      },
      "source": [
        "# Spectogram Recognition with CNN\n",
        "\n",
        "---\n",
        "[<img align=\"Left\" width=\"800\" height=\"300\" src=\"https://www.researchgate.net/publication/319081627/figure/fig1/AS:534034566004736@1504335170521/Spectrogram-of-a-speech-signal-with-breath-sound-marked-as-Breath-whose-bounds-are.png\">](#)\n",
        "\n"
      ]
    },
    {
      "cell_type": "markdown",
      "metadata": {
        "id": "WsqjPf8Y-YWw"
      },
      "source": [
        "**Colab** için kimlik doğrulama adımları:"
      ]
    },
    {
      "cell_type": "markdown",
      "source": [
        "**Drive yükleme işlemi**"
      ],
      "metadata": {
        "id": "tAYAYW7fyeqL"
      }
    },
    {
      "cell_type": "markdown",
      "metadata": {
        "id": "fQBEYuz5-f-b"
      },
      "source": [
        "**Drive da dosya konumlandırmayı yapma işlemleri**"
      ]
    },
    {
      "cell_type": "code",
      "metadata": {
        "id": "y-FF6kvPCMO0",
        "colab": {
          "base_uri": "https://localhost:8080/"
        },
        "outputId": "6c75dc19-9853-4a89-a58c-b87329a6f7a8"
      },
      "source": [
        "from google.colab import drive\n",
        "drive.mount('/content/mydrive/')"
      ],
      "execution_count": null,
      "outputs": [
        {
          "output_type": "stream",
          "name": "stdout",
          "text": [
            "Mounted at /content/mydrive/\n"
          ]
        }
      ]
    },
    {
      "cell_type": "code",
      "source": [
        "from google.colab import drive\n",
        "drive.mount('/content/drive')"
      ],
      "metadata": {
        "id": "rPY5gxNhr9cA",
        "outputId": "6cabf117-3893-4d48-c9b3-7bf43190378c",
        "colab": {
          "base_uri": "https://localhost:8080/"
        }
      },
      "execution_count": null,
      "outputs": [
        {
          "output_type": "stream",
          "name": "stdout",
          "text": [
            "Mounted at /content/drive\n"
          ]
        }
      ]
    },
    {
      "cell_type": "code",
      "source": [
        "#unmount drive\n",
        "# drive.flush_and_unmount()"
      ],
      "metadata": {
        "id": "a4Ow555zoFsU"
      },
      "execution_count": null,
      "outputs": []
    },
    {
      "cell_type": "code",
      "source": [
        "!pwd\n"
      ],
      "metadata": {
        "colab": {
          "base_uri": "https://localhost:8080/"
        },
        "id": "RSRCmdYyvd8n",
        "outputId": "20f0c4fa-159c-4cba-b7a5-820c8103ccea"
      },
      "execution_count": null,
      "outputs": [
        {
          "output_type": "stream",
          "name": "stdout",
          "text": [
            "/content\n"
          ]
        }
      ]
    },
    {
      "cell_type": "code",
      "source": [
        "%cd /content"
      ],
      "metadata": {
        "colab": {
          "base_uri": "https://localhost:8080/"
        },
        "id": "8_wxcKC60W7E",
        "outputId": "c12994e2-9f6c-4a3c-cbf2-ee956a91d173"
      },
      "execution_count": null,
      "outputs": [
        {
          "output_type": "stream",
          "name": "stdout",
          "text": [
            "/content\n"
          ]
        }
      ]
    },
    {
      "cell_type": "code",
      "source": [
        "!pwd"
      ],
      "metadata": {
        "colab": {
          "base_uri": "https://localhost:8080/"
        },
        "id": "VSoiJ6kD1hhd",
        "outputId": "8e2daa33-b87c-49ca-b67c-25730542470a"
      },
      "execution_count": null,
      "outputs": [
        {
          "output_type": "stream",
          "name": "stdout",
          "text": [
            "/content\n"
          ]
        }
      ]
    },
    {
      "cell_type": "code",
      "source": [
        "#Copying current content to new editable directory\n",
        "#!cp -r \"../content/drive/MyDrive/spectrograms/\" \"/sample_data/\"\n"
      ],
      "metadata": {
        "id": "lx1-IbDAAHkP"
      },
      "execution_count": null,
      "outputs": []
    },
    {
      "cell_type": "markdown",
      "metadata": {
        "id": "mmwhitluKIHx"
      },
      "source": [
        "+\n",
        "# Kurulum ve Kontroller"
      ]
    },
    {
      "cell_type": "code",
      "metadata": {
        "id": "3I0a97d4KHgS",
        "colab": {
          "base_uri": "https://localhost:8080/"
        },
        "outputId": "d4c72703-210a-4758-f9c6-6cbc1675ab44"
      },
      "source": [
        "from tensorflow.python.client import device_lib\n",
        "device_lib.list_local_devices()"
      ],
      "execution_count": null,
      "outputs": [
        {
          "output_type": "execute_result",
          "data": {
            "text/plain": [
              "[name: \"/device:CPU:0\"\n",
              " device_type: \"CPU\"\n",
              " memory_limit: 268435456\n",
              " locality {\n",
              " }\n",
              " incarnation: 16182412183513684204\n",
              " xla_global_id: -1]"
            ]
          },
          "metadata": {},
          "execution_count": 98
        }
      ]
    },
    {
      "cell_type": "code",
      "source": [
        "!cat /proc/meminfo"
      ],
      "metadata": {
        "id": "MorG7bVkEC-K"
      },
      "execution_count": null,
      "outputs": []
    },
    {
      "cell_type": "code",
      "metadata": {
        "id": "upGiOWYHLf9t"
      },
      "source": [
        "!pip install -q keras\n",
        "!pip install -q Pillow"
      ],
      "execution_count": null,
      "outputs": []
    },
    {
      "cell_type": "code",
      "source": [
        "import tensorflow as tf\n",
        "tf.test.gpu_device_name()\n"
      ],
      "metadata": {
        "colab": {
          "base_uri": "https://localhost:8080/",
          "height": 36
        },
        "id": "qc_GcnEbCIbu",
        "outputId": "10520605-f281-4f7e-e100-7f235b36c584"
      },
      "execution_count": null,
      "outputs": [
        {
          "output_type": "execute_result",
          "data": {
            "text/plain": [
              "''"
            ],
            "application/vnd.google.colaboratory.intrinsic+json": {
              "type": "string"
            }
          },
          "metadata": {},
          "execution_count": 101
        }
      ]
    },
    {
      "cell_type": "code",
      "source": [
        "tf.__version__"
      ],
      "metadata": {
        "colab": {
          "base_uri": "https://localhost:8080/",
          "height": 36
        },
        "id": "zd6kHvnfCgmS",
        "outputId": "7dc7e817-3b76-4785-970a-0ad9b8df5271"
      },
      "execution_count": null,
      "outputs": [
        {
          "output_type": "execute_result",
          "data": {
            "text/plain": [
              "'2.8.2'"
            ],
            "application/vnd.google.colaboratory.intrinsic+json": {
              "type": "string"
            }
          },
          "metadata": {},
          "execution_count": 102
        }
      ]
    },
    {
      "cell_type": "code",
      "metadata": {
        "id": "xzIWZIiiKikm"
      },
      "source": [
        "#https://github.com/astrada/google-drive-ocamlfuse/\n",
        "# !mkdir -p drive\n",
        "# !google-drive-ocamlfuse drive\n",
        "# !ls"
      ],
      "execution_count": null,
      "outputs": []
    },
    {
      "cell_type": "code",
      "metadata": {
        "id": "THmIw3mvK5VM",
        "colab": {
          "base_uri": "https://localhost:8080/"
        },
        "outputId": "b237d724-2121-4c60-a5a1-81d6abd3013d"
      },
      "source": [
        "!ls drive"
      ],
      "execution_count": null,
      "outputs": [
        {
          "output_type": "stream",
          "name": "stdout",
          "text": [
            "MyDrive\n"
          ]
        }
      ]
    },
    {
      "cell_type": "code",
      "metadata": {
        "id": "V45NzAqmLoet"
      },
      "source": [
        "from __future__ import print_function\n",
        "import keras\n",
        "from keras.datasets import mnist\n",
        "from keras.models import load_model\n",
        "from keras.models import Sequential\n",
        "from keras.layers import Dense, Dropout, Flatten\n",
        "from keras. layers import Conv2D, MaxPooling2D\n",
        "from keras import backend as K\n",
        "from keras.preprocessing.image import ImageDataGenerator, load_img, img_to_array, array_to_img\n",
        "import glob\n",
        "import numpy as np\n",
        "import os\n",
        "import shutil\n",
        "import cv2 as cv\n",
        "import matplotlib.pyplot as plt\n",
        "\n",
        "plt.rcParams[\"figure.figsize\"]=(18,8)\n",
        "%matplotlib inline\n",
        "np.random.seed(42)"
      ],
      "execution_count": null,
      "outputs": []
    },
    {
      "cell_type": "markdown",
      "source": [
        "# Configuring İmage datasets folder "
      ],
      "metadata": {
        "id": "1s7GwkpJORUT"
      }
    },
    {
      "cell_type": "code",
      "metadata": {
        "id": "LMzna52zK_ED"
      },
      "source": [
        "dataset_dir=f\"/content/drive/My Drive/spectrograms/\"\n"
      ],
      "execution_count": null,
      "outputs": []
    },
    {
      "cell_type": "code",
      "source": [
        "for root, dirs, files in os.walk(dataset_dir, topdown=False):\n",
        "    print(root)\n",
        "    print(f\"files type :{type(files)}\")\n",
        "    print(f\"files lenth :{len(files)}\")\n",
        "    #print(os.path.join(root, name))\n",
        "    print(f\"DİR type :{type(dirs)}\")\n",
        "    print(f\"DİR lenth :{len(dirs)}\")\n",
        "    \n",
        "    "
      ],
      "metadata": {
        "id": "MqBw9qi-xAHi"
      },
      "execution_count": null,
      "outputs": []
    },
    {
      "cell_type": "code",
      "source": [
        "for root,dirname, filenames in os.walk(dataset_dir,):\n",
        "    for filename in filenames:\n",
        "        print(os.path.join(root, filename))"
      ],
      "metadata": {
        "id": "P9lYJtNq3GbZ"
      },
      "execution_count": null,
      "outputs": []
    },
    {
      "cell_type": "code",
      "metadata": {
        "id": "NtFJlQafLLb4",
        "colab": {
          "base_uri": "https://localhost:8080/"
        },
        "outputId": "8ffa43e2-5f5c-4026-c381-9a8616b7802a"
      },
      "source": [
        "!ls"
      ],
      "execution_count": null,
      "outputs": [
        {
          "output_type": "stream",
          "name": "stdout",
          "text": [
            "drive  sample_data\n"
          ]
        }
      ]
    },
    {
      "cell_type": "markdown",
      "source": [
        "# Data Preliminary Exploration"
      ],
      "metadata": {
        "id": "nhMOAko4NsWx"
      }
    },
    {
      "cell_type": "code",
      "source": [
        "# create image datasets "
      ],
      "metadata": {
        "id": "oxvvs7VZ1BCb"
      },
      "execution_count": null,
      "outputs": []
    },
    {
      "cell_type": "code",
      "source": [
        "#  IMG_DIM = (150, 150)\n",
        "\n",
        "train_files = glob.glob(str(os.path.join(dataset_dir,\"1\"))+'/*')\n",
        "\n",
        "\n",
        "print(train_files)\n",
        "print(f\"1 spectogram img lenth :{len(train_files)}\")\n",
        "train_imgs = [img_to_array(load_img(img)) for img in train_files]\n",
        "train_imgs = np.array(train_imgs)\n",
        "train_labels = np.array([fn.split('/')[5].split(\".\")[0].strip() for fn in train_files])\n",
        "\n",
        "\n",
        "print('Train dataset shape:', train_imgs.shape)\n",
        "print('Train labels shape:', train_labels.shape)"
      ],
      "metadata": {
        "colab": {
          "base_uri": "https://localhost:8080/"
        },
        "id": "vW2Y0qRp1Jny",
        "outputId": "8a9a2f0b-f11e-4207-b246-40d6167afb8b"
      },
      "execution_count": null,
      "outputs": [
        {
          "output_type": "stream",
          "name": "stdout",
          "text": [
            "[]\n",
            "1 spectogram img lenth :0\n",
            "Train dataset shape: (0,)\n",
            "Train labels shape: (0,)\n"
          ]
        }
      ]
    },
    {
      "cell_type": "code",
      "source": [
        "train_labels[428]"
      ],
      "metadata": {
        "id": "sW-WtA349rCs",
        "colab": {
          "base_uri": "https://localhost:8080/",
          "height": 166
        },
        "outputId": "2ba961f0-c57d-485e-e224-23c630da9535"
      },
      "execution_count": null,
      "outputs": [
        {
          "output_type": "error",
          "ename": "IndexError",
          "evalue": "ignored",
          "traceback": [
            "\u001b[0;31m---------------------------------------------------------------------------\u001b[0m",
            "\u001b[0;31mIndexError\u001b[0m                                Traceback (most recent call last)",
            "\u001b[0;32m<ipython-input-123-70aeee8d07a4>\u001b[0m in \u001b[0;36m<module>\u001b[0;34m\u001b[0m\n\u001b[0;32m----> 1\u001b[0;31m \u001b[0mtrain_labels\u001b[0m\u001b[0;34m[\u001b[0m\u001b[0;36m428\u001b[0m\u001b[0;34m]\u001b[0m\u001b[0;34m\u001b[0m\u001b[0;34m\u001b[0m\u001b[0m\n\u001b[0m",
            "\u001b[0;31mIndexError\u001b[0m: index 428 is out of bounds for axis 0 with size 0"
          ]
        }
      ]
    },
    {
      "cell_type": "code",
      "source": [
        "image_size=(374,500)\n",
        "batch_size=32"
      ],
      "metadata": {
        "id": "xMFr7Aww-lKT"
      },
      "execution_count": null,
      "outputs": []
    },
    {
      "cell_type": "code",
      "source": [
        "train_ds = tf.keras.preprocessing.image_dataset_from_directory(\n",
        "    directory=dataset_dir,\n",
        "    validation_split=0.2,\n",
        "    subset=\"training\",\n",
        "    seed=1007,\n",
        "    image_size=image_size,\n",
        "    batch_size=batch_size,\n",
        ")"
      ],
      "metadata": {
        "id": "pJTC7_Wp-e7I"
      },
      "execution_count": null,
      "outputs": []
    },
    {
      "cell_type": "code",
      "source": [],
      "metadata": {
        "id": "pLTHTeqMA0hs"
      },
      "execution_count": null,
      "outputs": []
    },
    {
      "cell_type": "code",
      "source": [
        "train_ds.class_names"
      ],
      "metadata": {
        "id": "BqAPH1xC_Cge"
      },
      "execution_count": null,
      "outputs": []
    },
    {
      "cell_type": "code",
      "source": [
        "#Checking images and labels shapes (amount of images, height, width, color channels)\n",
        "for image_batch, labels_batch in train_ds:\n",
        "  print(image_batch.shape)\n",
        "  print(labels_batch.shape)\n",
        "  break"
      ],
      "metadata": {
        "id": "xw2kIT18A0zD"
      },
      "execution_count": null,
      "outputs": []
    },
    {
      "cell_type": "code",
      "source": [
        "test_ds = tf.keras.preprocessing.image_dataset_from_directory(\n",
        "    directory=dataset_dir,\n",
        "    validation_split=0.2,\n",
        "    subset=\"training\",\n",
        "    seed=1007,\n",
        "    image_size=image_size,\n",
        "    batch_size=batch_size,\n",
        ")"
      ],
      "metadata": {
        "id": "jW6g2tlF_k2W"
      },
      "execution_count": null,
      "outputs": []
    },
    {
      "cell_type": "code",
      "source": [
        "#Checking images and labels shapes (amount of images, height, width, color channels)\n",
        "for image_batch, labels_batch in test_ds:\n",
        "  print(image_batch.shape)\n",
        "  print(labels_batch.shape)\n",
        "  break"
      ],
      "metadata": {
        "id": "WEdnyOxsK-GH"
      },
      "execution_count": null,
      "outputs": []
    },
    {
      "cell_type": "markdown",
      "metadata": {
        "id": "CcCy6z4c-kqL"
      },
      "source": [
        "### Veriden örnekleri görselleştirme"
      ]
    },
    {
      "cell_type": "code",
      "source": [
        "#Displaying image samples \n",
        "plt.figure(figsize=(18, 18))\n",
        "for images, labels in train_ds.take(1):\n",
        "    for i in range(batch_size):\n",
        "        ax = plt.subplot(4,8,i+1)\n",
        "        plt.imshow(images[i].numpy().astype(\"uint8\"))\n",
        "        plt.title(int(labels[i]))\n",
        "        plt.axis(\"off\")"
      ],
      "metadata": {
        "id": "U3kPRAYpB1kO"
      },
      "execution_count": null,
      "outputs": []
    },
    {
      "cell_type": "markdown",
      "metadata": {
        "id": "T2hiXtO3Los7"
      },
      "source": [
        "# Data Preparation"
      ]
    },
    {
      "cell_type": "code",
      "metadata": {
        "id": "LmHTKc_5NvmM"
      },
      "source": [
        "import os, sys, stat\n",
        "#Defining parameters for the loader:\n",
        "batch_size = 32\n",
        "img_height = image_size[0]\n",
        "img_width = image_size[1]\n",
        "\n",
        "#Filtering out corrupted images\n",
        "num_skipped = 0\n",
        "for folder_name in (train_labels):\n",
        "    folder_path = os.path.join(dataset_dir, folder_name)\n",
        "    for fname in os.listdir(folder_path):\n",
        "        fpath = os.path.join(folder_path, fname)\n",
        "        try:\n",
        "            fobj = open(fpath, \"rb\")\n",
        "            is_jfif = tf.compat.as_bytes(\"JFIF\") in fobj.peek(10)\n",
        "        finally:\n",
        "            fobj.close()\n",
        "        if not is_jfif:\n",
        "            num_skipped += 1\n",
        "            corrupted_dist=\"../content/sample_data/corrupted_img/\"\n",
        "            if not os.path.exists(corrupted_dist):\n",
        "             os.mkdir(corrupted_dist)\n",
        "\n",
        "            shutil.copy(fpath,corrupted_dist)\n",
        "            # Delete corrupted image\n",
        "            # os.chmod(fpath,stat.S_IXUSR)\n",
        "            # os.remove(fpath)\n",
        "            \n",
        "print(\"Deleted %d images\" % num_skipped)\n",
        "\n",
        "#Data augmentation\n",
        "data_augmentation = keras.Sequential([\n",
        "    layers.experimental.preprocessing.RandomFlip(\"horizontal\", input_shape=(img_height, img_width, 3)),\n",
        "    layers.experimental.preprocessing.RandomRotation(0.1),\n",
        "    layers.experimental.preprocessing.RandomZoom(0.1)])\n",
        "\n",
        "#Setting train/test split\n",
        "ds_train = tf.keras.preprocessing.image_dataset_from_directory(\n",
        "    dataset_dir,\n",
        "    validation_split=0.2,\n",
        "    subset=\"training\",\n",
        "    seed=1337,\n",
        "    image_size=(img_height, img_width),\n",
        "    batch_size=batch_size)\n",
        "ds_test = tf.keras.preprocessing.image_dataset_from_directory(\n",
        "    dataset_dir,\n",
        "    validation_split=0.2,\n",
        "    subset=\"validation\",\n",
        "    seed=1337,\n",
        "    image_size=(img_height, img_width),\n",
        "    batch_size=batch_size)\n",
        "\n"
      ],
      "execution_count": null,
      "outputs": []
    },
    {
      "cell_type": "markdown",
      "source": [
        "# Data Exploration"
      ],
      "metadata": {
        "id": "YK9jk6b8f5pZ"
      }
    },
    {
      "cell_type": "code",
      "source": [
        "#Displaying a random augmented image sample\n",
        "plt.figure(figsize=(10, 10))\n",
        "for images, _ in ds_test.take(1):\n",
        "  for i in range(9):\n",
        "    augmented_images = data_augmentation(images)\n",
        "    ax = plt.subplot(3, 3, i + 1)\n",
        "    plt.imshow(augmented_images[0].numpy().astype(\"uint8\"))\n",
        "    plt.axis(\"off\")"
      ],
      "metadata": {
        "id": "YHpJ9LqxgBSY"
      },
      "execution_count": null,
      "outputs": []
    },
    {
      "cell_type": "markdown",
      "source": [],
      "metadata": {
        "id": "Ov2_8Ld_gXIh"
      }
    },
    {
      "cell_type": "markdown",
      "metadata": {
        "id": "iQKd5RauPB82"
      },
      "source": [
        "# Modelling"
      ]
    },
    {
      "cell_type": "code",
      "metadata": {
        "id": "o5EdaBRDPGd6"
      },
      "source": [
        "model = Sequential() "
      ],
      "execution_count": null,
      "outputs": []
    },
    {
      "cell_type": "markdown",
      "metadata": {
        "id": "mRDxYviAPS1E"
      },
      "source": [
        "**Katlanların oluşturulması**"
      ]
    },
    {
      "cell_type": "code",
      "metadata": {
        "id": "ryuCeOusPW1E"
      },
      "source": [
        "model.add(Conv2D(32, kernel_size=(3, 3),\n",
        "                 activation='relu',\n",
        "                 input_shape=input_shape))\n",
        "\n",
        " \n",
        "model.add(Conv2D(64, (3, 3), activation='relu'))\n",
        "\n",
        "\n",
        "model.add(MaxPooling2D(pool_size=(2, 2)))\n",
        "\n",
        "\n",
        "model.add(Dropout(0.25))\n",
        "\n",
        "\n",
        "model.add(Flatten())\n",
        "\n",
        "\n",
        "model.add(Dense(128, activation='relu'))\n",
        "\n",
        "model.add(Dropout(0.5))\n",
        "\n",
        "\n",
        "model.add(Dense(num_classes, activation='softmax'))"
      ],
      "execution_count": null,
      "outputs": []
    },
    {
      "cell_type": "markdown",
      "metadata": {
        "id": "17zBAs_JRlMN"
      },
      "source": [
        "Modell Görselleştirme\n"
      ]
    },
    {
      "cell_type": "code",
      "metadata": {
        "id": "7I3CppJTWrSf"
      },
      "source": [
        "model.summary()\n"
      ],
      "execution_count": null,
      "outputs": []
    },
    {
      "cell_type": "code",
      "metadata": {
        "id": "b-vFRrUpRsEn"
      },
      "source": [
        "\n",
        "model.compile(loss = keras.losses.categorical_crossentropy,\n",
        "             optimizer = keras.optimizers.Adadelta(),\n",
        "             metrics = ['accuracy'])"
      ],
      "execution_count": null,
      "outputs": []
    },
    {
      "cell_type": "markdown",
      "metadata": {
        "id": "F1g3cwBwXv13"
      },
      "source": [
        "### "
      ]
    },
    {
      "cell_type": "code",
      "metadata": {
        "id": "KQ2cRjQsXucS"
      },
      "source": [
        "model.fit(x_train, y_train,\n",
        "          batch_size=batch_size,\n",
        "          epochs=epochs,\n",
        "          verbose=1,\n",
        "          validation_data=(x_test, y_test))"
      ],
      "execution_count": null,
      "outputs": []
    },
    {
      "cell_type": "code",
      "metadata": {
        "id": "dMEXS-A0Y78X"
      },
      "source": [
        "model.save('save_models/mnist_model.h5')"
      ],
      "execution_count": null,
      "outputs": []
    },
    {
      "cell_type": "code",
      "metadata": {
        "id": "JGPF05mLakxN"
      },
      "source": [
        "score = model.evaluate(x_test, y_test, verbose=0)\n",
        "print('Test Loss:', score[0])\n",
        "print('Test Accuracy:', score[1])\n"
      ],
      "execution_count": null,
      "outputs": []
    },
    {
      "cell_type": "markdown",
      "metadata": {
        "id": "zs1dmePNbNV2"
      },
      "source": [
        "**Rastgele değer için test işlemi**"
      ]
    },
    {
      "cell_type": "code",
      "metadata": {
        "id": "G9DrBMvzcvIF"
      },
      "source": [
        "model_test = model.save('save_models/mnist_model.h5')"
      ],
      "execution_count": null,
      "outputs": []
    },
    {
      "cell_type": "code",
      "metadata": {
        "id": "g4EM3Fc1bHqO"
      },
      "source": [
        "test_image = x_test[32]\n",
        "y_test[32]"
      ],
      "execution_count": null,
      "outputs": []
    },
    {
      "cell_type": "code",
      "metadata": {
        "id": "SAO6lR24bwko"
      },
      "source": [
        "plt.imshow(test_image.reshape(28,28))"
      ],
      "execution_count": null,
      "outputs": []
    },
    {
      "cell_type": "code",
      "metadata": {
        "id": "_FSx1IrNb5W4"
      },
      "source": [
        "test_data = x_test[32].reshape(1,28,28,1)\n",
        "pre=model_test.predict(test_data, batch_size=1)"
      ],
      "execution_count": null,
      "outputs": []
    },
    {
      "cell_type": "markdown",
      "source": [
        "# Model Deployment"
      ],
      "metadata": {
        "id": "h3qUBCIbgoWn"
      }
    },
    {
      "cell_type": "code",
      "source": [],
      "metadata": {
        "id": "60chUuK_gq3y"
      },
      "execution_count": null,
      "outputs": []
    }
  ]
}