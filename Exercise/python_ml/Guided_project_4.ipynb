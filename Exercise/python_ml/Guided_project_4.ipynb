{
  "nbformat": 4,
  "nbformat_minor": 0,
  "metadata": {
    "colab": {
      "provenance": [],
      "collapsed_sections": [],
      "include_colab_link": true
    },
    "kernelspec": {
      "name": "python3",
      "display_name": "Python 3"
    },
    "language_info": {
      "name": "python"
    }
  },
  "cells": [
    {
      "cell_type": "markdown",
      "metadata": {
        "id": "view-in-github",
        "colab_type": "text"
      },
      "source": [
        "<a href=\"https://colab.research.google.com/github/mustafabozkaya/DeepLearningBootcamp2022/blob/master/Exercise/python_ml/Guided_project_4.ipynb\" target=\"_parent\"><img src=\"https://colab.research.google.com/assets/colab-badge.svg\" alt=\"Open In Colab\"/></a>"
      ]
    },
    {
      "cell_type": "markdown",
      "source": [
        "#Chapter 4 \n",
        "##NumPy\n",
        "\n",
        "Rachel is very happy with the way you cleaned and structured the employee data last time, but she wants to take things one step further. The sales team wants to track the performance of the employees not only by the revenue they generated, but also taking the number of calls and the average deal size into account. For that, Rachel wants you to create a software for reporting. To be able to perform calculations on the data you decide that creating a data structure using Numpy will be best."
      ],
      "metadata": {
        "id": "QkcKMNzWAbg7"
      }
    },
    {
      "cell_type": "code",
      "source": [
        "# githup folder included from repository\n",
        "%%bash\n",
        "#git clone https://github.com/mustafabozkaya/DeepLearningBootcamp2022.git deeplearning/\n"
      ],
      "metadata": {
        "id": "KNzmj-7SLdJA"
      },
      "execution_count": 126,
      "outputs": []
    },
    {
      "cell_type": "code",
      "source": [
        "%ls deeplearning/\n"
      ],
      "metadata": {
        "id": "AeI9i5MjLWqS",
        "outputId": "39393397-776c-4a28-acfb-be3b917811cd",
        "colab": {
          "base_uri": "https://localhost:8080/"
        }
      },
      "execution_count": 127,
      "outputs": [
        {
          "output_type": "stream",
          "name": "stdout",
          "text": [
            "\u001b[0m\u001b[01;34mconvolutional_NN\u001b[0m/     \u001b[01;34mExercise\u001b[0m/  Spectogram_Recognition_CNN.ipynb\n",
            "employee_revenue.txt  README.md  urban_sounds_classification.pdf\n"
          ]
        }
      ]
    },
    {
      "cell_type": "markdown",
      "source": [
        "### Get the data\n",
        "\n",
        "First, you need to get the data. You created lists with the relevant information in the last chapter.\n",
        "\n",
        "📌 Copy and paste the lists \"names\", \"call_numbers\", \"average_deal_size\", and \"revenues\" you created in chapter 3 and assign them to variables."
      ],
      "metadata": {
        "id": "LWlWyFTek4PO"
      }
    },
    {
      "cell_type": "code",
      "source": [
        "#Copy the lists \"names\", \"call_numbers\", \"average_deal_size\", and \"revenues\" from chapter 3\n",
        "names = ['Ben', 'Omer', 'Karen', 'Celine', 'Sue', 'Bora', 'Rose', 'Ellen', 'Bob', 'Taylor,', 'Jude']\n",
        "calls_numbers =[300, 10, 500, 70, 100, 100, 600, 800, 200, 450, 80]\n",
        "revenues =[2400, 60, 12000, 2275, 500, 770, 4000, 6000, 800, 1200, 500]\n",
        "avarage_deal_sizes =[ 8, 6,  24,  32,  5,  25, 25, 40, 15, 10, 12]\n"
      ],
      "metadata": {
        "id": "XtkCWxs4lGyX"
      },
      "execution_count": 128,
      "outputs": []
    },
    {
      "cell_type": "markdown",
      "source": [
        "### Importing NumPy\n",
        "\n",
        "You plan to create a data structure using NumPy.\n",
        "\n",
        "📌 Import the NumPy library as."
      ],
      "metadata": {
        "id": "Ge6Rw3bkA1nq"
      }
    },
    {
      "cell_type": "code",
      "execution_count": 129,
      "metadata": {
        "id": "bkJKAysX41P0"
      },
      "outputs": [],
      "source": [
        "#Import the NumPy library\n",
        "import numpy as np\n"
      ]
    },
    {
      "cell_type": "markdown",
      "source": [
        "###Creating an initial (base) arrays\n",
        "\n",
        "Next, you need to prepare an array in which you will store the values. The initial array will be empty. Since it will hold numerical data, the data type should be integer.\n",
        "\n",
        "📌 Create an empty array using .array(). \n",
        "\n",
        "📌 Use the *dtype* parameter to specify the data type."
      ],
      "metadata": {
        "id": "V_RyXQRPDKDX"
      }
    },
    {
      "cell_type": "code",
      "source": [
        "#Create an empty array with the data type integer\n",
        "data =np.array([],dtype=int)\n"
      ],
      "metadata": {
        "id": "rhn8VLL5F1io"
      },
      "execution_count": 130,
      "outputs": []
    },
    {
      "cell_type": "markdown",
      "source": [
        "###Functions to add the data\n",
        "\n",
        "Now that your empty array is ready, you need to transfer the data from the lists to the array. You create 2 functions functions for this. \n",
        "\n",
        "1. append_names function: A function that takes the \"names\" list and adds the index of each name to the \"data\" array.\n",
        "\n",
        "  📌 Use a for loop and the .append() method for the indexes.\n",
        "\n",
        "2. append_performance_measures function: A function that takes one of the remaining lists to add the sales performance data like number of calls, average deal size and revenue to the \"data\" array.\n",
        "\n",
        "  📌 Use the .append() method."
      ],
      "metadata": {
        "id": "RTg7VcXco1pB"
      }
    },
    {
      "cell_type": "code",
      "source": [
        "#Define the append_names function\n",
        "def append_names(names_list):\n",
        "  for i,name in enumerate(names_list):\n",
        "    global data \n",
        "    data=np.append(data,i)\n",
        "    \n",
        "\n",
        "  \n"
      ],
      "metadata": {
        "id": "aFt18Yn_Ai48"
      },
      "execution_count": 131,
      "outputs": []
    },
    {
      "cell_type": "code",
      "source": [
        "data"
      ],
      "metadata": {
        "id": "QaLv9yWtP5oS",
        "outputId": "d29d9864-4e4e-4d5b-dc1e-dd6bec961a92",
        "colab": {
          "base_uri": "https://localhost:8080/"
        }
      },
      "execution_count": 132,
      "outputs": [
        {
          "output_type": "execute_result",
          "data": {
            "text/plain": [
              "array([], dtype=int64)"
            ]
          },
          "metadata": {},
          "execution_count": 132
        }
      ]
    },
    {
      "cell_type": "code",
      "source": [
        "#Define the append_performance_measures function\n",
        "def append_performance_measures(feature_list):\n",
        "    global data\n",
        "    data=np.append(data,feature_list)\n",
        "\n"
      ],
      "metadata": {
        "id": "XZ0xJEnqUCt6"
      },
      "execution_count": 133,
      "outputs": []
    },
    {
      "cell_type": "code",
      "source": [
        "data"
      ],
      "metadata": {
        "id": "jUEbNM-dUyNl",
        "outputId": "b32af3aa-3f93-42ba-e34f-a59ead118f38",
        "colab": {
          "base_uri": "https://localhost:8080/"
        }
      },
      "execution_count": 134,
      "outputs": [
        {
          "output_type": "execute_result",
          "data": {
            "text/plain": [
              "array([], dtype=int64)"
            ]
          },
          "metadata": {},
          "execution_count": 134
        }
      ]
    },
    {
      "cell_type": "code",
      "source": [
        "data =np.array([],dtype=int)"
      ],
      "metadata": {
        "id": "AhvdMzBopaCE"
      },
      "execution_count": 153,
      "outputs": []
    },
    {
      "cell_type": "markdown",
      "source": [
        "Call the functions to add the data to the array and print the array and its shape to see the result.\n",
        "\n",
        "📌 Use the .shape() method."
      ],
      "metadata": {
        "id": "JEQ_Il_JFPJR"
      }
    },
    {
      "cell_type": "code",
      "source": [
        "#Use the append_names and append_sales_performance_measures to add the data\n",
        "append_names(names)\n",
        "append_performance_measures(calls_numbers)\n",
        "append_performance_measures(avarage_deal_sizes)\n",
        "append_performance_measures(revenues)\n",
        "\n",
        "\n",
        "\n",
        "#Print the array and its shape to see the result\n",
        "print(data)\n",
        "print( \"data shape after update :\",str(data.shape))"
      ],
      "metadata": {
        "id": "eknqraz75Qj9",
        "outputId": "0cc47561-c9e7-4dc0-b22b-78d3824f6db8",
        "colab": {
          "base_uri": "https://localhost:8080/"
        }
      },
      "execution_count": 154,
      "outputs": [
        {
          "output_type": "stream",
          "name": "stdout",
          "text": [
            "[    0     1     2     3     4     5     6     7     8     9    10   300\n",
            "    10   500    70   100   100   600   800   200   450    80     8     6\n",
            "    24    32     5    25    25    40    15    10    12  2400    60 12000\n",
            "  2275   500   770  4000  6000   800  1200   500]\n",
            "data shape after update : (44,)\n"
          ]
        }
      ]
    },
    {
      "cell_type": "markdown",
      "source": [
        "###Reshape the array\n",
        "\n",
        "But like this, your array is not very structured. You need a 2D-array to be able to work better with it. The original data was 4 lists each with 11 values. So, the \"data\" array should have 4 rows and 11 columns. Print the result afterwards.\n",
        "\n",
        "📌 Use the .reshape() method to rearrange the values in the array.\n"
      ],
      "metadata": {
        "id": "PrHY03X6C94s"
      }
    },
    {
      "cell_type": "code",
      "source": [
        "#Use the .reshape() method to change the array structure to 4 rows and 11 columns\n",
        "data=data.reshape(4,11)\n",
        "\n",
        "#Print the resulting array and its shape\n",
        "print(data)"
      ],
      "metadata": {
        "id": "__2N4NZB5k3Q",
        "outputId": "8da09e83-ec33-4985-a7e0-f216f2e13f13",
        "colab": {
          "base_uri": "https://localhost:8080/"
        }
      },
      "execution_count": 155,
      "outputs": [
        {
          "output_type": "stream",
          "name": "stdout",
          "text": [
            "[[    0     1     2     3     4     5     6     7     8     9    10]\n",
            " [  300    10   500    70   100   100   600   800   200   450    80]\n",
            " [    8     6    24    32     5    25    25    40    15    10    12]\n",
            " [ 2400    60 12000  2275   500   770  4000  6000   800  1200   500]]\n"
          ]
        }
      ]
    },
    {
      "cell_type": "markdown",
      "source": [
        "###Accessing values\n",
        "\n",
        "Inside the array you can access the values in different ways. \n",
        "\n",
        "1. Print each row separately. \n",
        "\n",
        "  📌 Write down the array name and the index of the row you want to access.\n"
      ],
      "metadata": {
        "id": "-JgrV_l7MIwQ"
      }
    },
    {
      "cell_type": "code",
      "source": [
        "#Print the name indexes\n",
        "data[0]\n"
      ],
      "metadata": {
        "id": "7IwKRbzORnjA",
        "outputId": "c7190e4d-0f03-4d53-cf58-297d4f12a12b",
        "colab": {
          "base_uri": "https://localhost:8080/"
        }
      },
      "execution_count": 156,
      "outputs": [
        {
          "output_type": "execute_result",
          "data": {
            "text/plain": [
              "array([ 0,  1,  2,  3,  4,  5,  6,  7,  8,  9, 10])"
            ]
          },
          "metadata": {},
          "execution_count": 156
        }
      ]
    },
    {
      "cell_type": "code",
      "source": [
        "#Print the number of calls\n",
        "data[1]\n"
      ],
      "metadata": {
        "id": "4TZ-6AI3AJ3k",
        "outputId": "3105ed20-d2ec-427e-b87d-8210f727d4a6",
        "colab": {
          "base_uri": "https://localhost:8080/"
        }
      },
      "execution_count": 157,
      "outputs": [
        {
          "output_type": "execute_result",
          "data": {
            "text/plain": [
              "array([300,  10, 500,  70, 100, 100, 600, 800, 200, 450,  80])"
            ]
          },
          "metadata": {},
          "execution_count": 157
        }
      ]
    },
    {
      "cell_type": "code",
      "source": [
        "#Print the average deal sizes\n",
        "data[2]"
      ],
      "metadata": {
        "id": "6AwKKNcVP-Z4",
        "outputId": "91554533-646f-4073-e440-be2fd50abe7e",
        "colab": {
          "base_uri": "https://localhost:8080/"
        }
      },
      "execution_count": 158,
      "outputs": [
        {
          "output_type": "execute_result",
          "data": {
            "text/plain": [
              "array([ 8,  6, 24, 32,  5, 25, 25, 40, 15, 10, 12])"
            ]
          },
          "metadata": {},
          "execution_count": 158
        }
      ]
    },
    {
      "cell_type": "code",
      "source": [
        "#Print the revenues \n",
        "data[3]"
      ],
      "metadata": {
        "id": "A0XcKZpKQRnI",
        "outputId": "7fa24610-9895-4d26-d90f-b30081e9d615",
        "colab": {
          "base_uri": "https://localhost:8080/"
        }
      },
      "execution_count": 159,
      "outputs": [
        {
          "output_type": "execute_result",
          "data": {
            "text/plain": [
              "array([ 2400,    60, 12000,  2275,   500,   770,  4000,  6000,   800,\n",
              "        1200,   500])"
            ]
          },
          "metadata": {},
          "execution_count": 159
        }
      ]
    },
    {
      "cell_type": "markdown",
      "source": [
        "2. Print a specific value.\n",
        "\n",
        "  📌 Give the index of the row and the column of the value you want to access.\n",
        "  For example, to get the revenue generated by Ellen, specify the value in the 3rd row and 7th column."
      ],
      "metadata": {
        "id": "vwggtzzeAuGX"
      }
    },
    {
      "cell_type": "code",
      "source": [
        "#Print the revenue generated by Ellen\n",
        "data[3,7]\n"
      ],
      "metadata": {
        "id": "qkHN7yCiSs7z",
        "outputId": "b4ffa991-f142-41d8-fe0b-0fae53838922",
        "colab": {
          "base_uri": "https://localhost:8080/"
        }
      },
      "execution_count": 160,
      "outputs": [
        {
          "output_type": "execute_result",
          "data": {
            "text/plain": [
              "6000"
            ]
          },
          "metadata": {},
          "execution_count": 160
        }
      ]
    },
    {
      "cell_type": "markdown",
      "source": [
        "###Analyzing the data\n",
        "\n",
        "Great, your array is ready!\n",
        "\n",
        "The sales team has a formula that they use to calculate the performance score of an employee.\n",
        "\n",
        "\n",
        "\\begin{align}\n",
        "        \\text{Performance} = \\frac{\\text{Average deal size x Revenue}}{\\text{Number of calls}}\n",
        "    \\end{align}\n",
        "\n",
        "\n",
        "📌 Create a function called “calculate_performance” to implement this formula. It should take the employee name as an input."
      ],
      "metadata": {
        "id": "HpcNsSjVVJ76"
      }
    },
    {
      "cell_type": "code",
      "source": [
        "#Define the function calculate_performance\n",
        "def calculate_performance(employee_name):\n",
        "  id=names.index(employee_name)\n",
        "  number_of_calls=data[1,id]\n",
        "  average_deal=data[2,id]\n",
        "  revenue=data[3,id]\n",
        "  performance=(average_deal*revenue)/number_of_calls\n",
        "\n",
        "  print(f\" Performance of the {employee_name} is {performance}\")\n",
        "\n",
        "  return performance\n",
        "\n",
        "\n",
        "\n"
      ],
      "metadata": {
        "id": "UoB-hSG02lmJ"
      },
      "execution_count": 161,
      "outputs": []
    },
    {
      "cell_type": "markdown",
      "source": [
        "###Try it out\n",
        "\n",
        "Let's check Ellen's performance score and print the result."
      ],
      "metadata": {
        "id": "BJp7Qgxv5cVX"
      }
    },
    {
      "cell_type": "code",
      "source": [
        "#Use the calculate performance function to print Ellen's performance\n",
        "calculate_performance(\"Karen\")"
      ],
      "metadata": {
        "id": "kd2J09dg6n4i",
        "outputId": "4c2e0dc2-1784-4f5e-898b-909efcf215c7",
        "colab": {
          "base_uri": "https://localhost:8080/"
        }
      },
      "execution_count": 162,
      "outputs": [
        {
          "output_type": "stream",
          "name": "stdout",
          "text": [
            " Performance of the Karen is 576.0\n"
          ]
        },
        {
          "output_type": "execute_result",
          "data": {
            "text/plain": [
              "576.0"
            ]
          },
          "metadata": {},
          "execution_count": 162
        }
      ]
    },
    {
      "cell_type": "markdown",
      "source": [
        "###Calculate the performance of each employee\n",
        "Now you need to calculate the performance score of each employee and add these scores to a list.\n",
        "\n",
        "📌 Create an empty list \"performance_scores\" to hold the scores.\n",
        "\n",
        "📌 Use a for loop to convert the scores into integer type data and append it to the list \"sperformance_scores\"."
      ],
      "metadata": {
        "id": "4zUQIn2s7wwy"
      }
    },
    {
      "cell_type": "code",
      "source": [
        "#Calculate the performance of each employee\n",
        "performance_scores=[]\n",
        "performance_dict={}\n",
        "for name in names:\n",
        "  score=calculate_performance(name)\n",
        "  performance_scores.append(score)\n",
        "  performance_dict[name]=score\n",
        "\n",
        "sperformance_scores=np.array(performance_scores,dtype=int)\n",
        "\n",
        "print(f\" performance scores list : {performance_scores}\")\n",
        "print(f\" performance scores dictionary : {performance_dict}\")\n",
        "print(f\" sperformance scores  : {sperformance_scores}\")\n",
        "\n",
        "\n",
        "\n",
        "\n"
      ],
      "metadata": {
        "id": "xTroGqo745AO",
        "outputId": "4203df79-74c4-4ff3-b9df-2068f1402546",
        "colab": {
          "base_uri": "https://localhost:8080/"
        }
      },
      "execution_count": 163,
      "outputs": [
        {
          "output_type": "stream",
          "name": "stdout",
          "text": [
            " Performance of the Ben is 64.0\n",
            " Performance of the Omer is 36.0\n",
            " Performance of the Karen is 576.0\n",
            " Performance of the Celine is 1040.0\n",
            " Performance of the Sue is 25.0\n",
            " Performance of the Bora is 192.5\n",
            " Performance of the Rose is 166.66666666666666\n",
            " Performance of the Ellen is 300.0\n",
            " Performance of the Bob is 60.0\n",
            " Performance of the Taylor, is 26.666666666666668\n",
            " Performance of the Jude is 75.0\n",
            " performance scores list : [64.0, 36.0, 576.0, 1040.0, 25.0, 192.5, 166.66666666666666, 300.0, 60.0, 26.666666666666668, 75.0]\n",
            " performance scores dictionary : {'Ben': 64.0, 'Omer': 36.0, 'Karen': 576.0, 'Celine': 1040.0, 'Sue': 25.0, 'Bora': 192.5, 'Rose': 166.66666666666666, 'Ellen': 300.0, 'Bob': 60.0, 'Taylor,': 26.666666666666668, 'Jude': 75.0}\n",
            " sperformance scores  : [  64   36  576 1040   25  192  166  300   60   26   75]\n"
          ]
        }
      ]
    },
    {
      "cell_type": "markdown",
      "source": [
        "###Add the scores to the \"data\" array\n",
        "\n",
        "Next, you need to add the scores to your \"data\" array and print the result.\n",
        "\n",
        "📌 Use the .concatenate() method to add the \"performance_scores\" list to the \"data\" array. "
      ],
      "metadata": {
        "id": "JEjPMpP7FvOw"
      }
    },
    {
      "cell_type": "code",
      "source": [
        "#Add the \"performance_scores\" list to the \"data\" array\n",
        "data=np.concatenate((data,[sperformance_scores]),axis=0)\n",
        "\n",
        "\n",
        "#Print the resulting array\n",
        "print(data)\n"
      ],
      "metadata": {
        "id": "zm4Zbzl9-1n-",
        "outputId": "0804cb7e-34b3-4edf-d238-89a54c42e0cb",
        "colab": {
          "base_uri": "https://localhost:8080/"
        }
      },
      "execution_count": 164,
      "outputs": [
        {
          "output_type": "stream",
          "name": "stdout",
          "text": [
            "[[    0     1     2     3     4     5     6     7     8     9    10]\n",
            " [  300    10   500    70   100   100   600   800   200   450    80]\n",
            " [    8     6    24    32     5    25    25    40    15    10    12]\n",
            " [ 2400    60 12000  2275   500   770  4000  6000   800  1200   500]\n",
            " [   64    36   576  1040    25   192   166   300    60    26    75]]\n"
          ]
        }
      ]
    },
    {
      "cell_type": "markdown",
      "source": [
        "###Find out the best and worst performing employees\n",
        "\n",
        "Finally, you need to determine the best and worst performing employees.\n",
        "\n",
        "📌 Use the .argmax() and .argmin() methods to find the index of the best and worst performing employees."
      ],
      "metadata": {
        "id": "oWMMtqfDUZVs"
      }
    },
    {
      "cell_type": "code",
      "source": [
        "data[4] # performance array"
      ],
      "metadata": {
        "id": "Ri7hncU0zKP1",
        "outputId": "bd8b1a65-9160-4fde-a45e-bc2fc6d25d72",
        "colab": {
          "base_uri": "https://localhost:8080/"
        }
      },
      "execution_count": 166,
      "outputs": [
        {
          "output_type": "execute_result",
          "data": {
            "text/plain": [
              "array([  64,   36,  576, 1040,   25,  192,  166,  300,   60,   26,   75])"
            ]
          },
          "metadata": {},
          "execution_count": 166
        }
      ]
    },
    {
      "cell_type": "code",
      "source": [
        "#Use .argmax() and .argmin() methods to determine the best and worst performing employees\n",
        "index_best_employee=np.argmax(data[4])\n",
        "index_worst_employee=np.argmin(data[4])\n",
        "\n",
        "\n",
        "\n",
        "#Print out the results\n",
        "print(f\" Best performing Employeer :{names[index_best_employee]}\")\n",
        "print(f\" Worst performing Employeer :{names[index_worst_employee]}\")\n"
      ],
      "metadata": {
        "id": "58fNLhRsQ18I",
        "outputId": "e94b02e3-979a-45e8-ca68-4b3bfbdd1e71",
        "colab": {
          "base_uri": "https://localhost:8080/"
        }
      },
      "execution_count": 167,
      "outputs": [
        {
          "output_type": "stream",
          "name": "stdout",
          "text": [
            " Best performing Employeer :Celine\n",
            " Worst performing Employeer :Sue\n"
          ]
        }
      ]
    },
    {
      "cell_type": "code",
      "source": [],
      "metadata": {
        "id": "1xcPwgzjy9rp"
      },
      "execution_count": null,
      "outputs": []
    }
  ]
}