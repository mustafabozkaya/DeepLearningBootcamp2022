{
  "cells": [
    {
      "cell_type": "markdown",
      "metadata": {
        "id": "view-in-github",
        "colab_type": "text"
      },
      "source": [
        "<a href=\"https://colab.research.google.com/github/mustafabozkaya/DeepLearningBootcamp2022/blob/master/Exercise/python_ml/Guided_project_1.ipynb\" target=\"_parent\"><img src=\"https://colab.research.google.com/assets/colab-badge.svg\" alt=\"Open In Colab\"/></a>"
      ]
    },
    {
      "cell_type": "markdown",
      "source": [
        "# Chapter 1\n",
        "### Your first day at your new job 👩‍💻👨‍💻\n",
        "\n",
        "You are starting a new job as a junior software developer in an IT company. \n",
        "\n",
        "The company’s HR department asks you to fill out a form, so you start by assigning your personal information to corresponding variables.\n",
        "\n",
        "📌 Create a variable for your name, surname, age, ID number, place of residence, to specify if you have active health insurance or not, and lastly one for specifying your nationality.\n"
      ],
      "metadata": {
        "id": "VMuUK0ap_bRD"
      }
    },
    {
      "cell_type": "code",
      "execution_count": 5,
      "metadata": {
        "id": "OPLhhc2Sp-D0"
      },
      "outputs": [],
      "source": [
        "#Please assign your personal information to variables\n",
        "my_name=\"Mustafa\"\n",
        "my_surname=\"BOZKAYA\"\n",
        "my_age=30\n",
        "ID_number=369258147\n",
        "my_nationality=\"Kurdish\"\n",
        "where_i_live=\"Gaziantep\"\n",
        "health_insurance=True\n",
        "\n",
        "\n"
      ]
    },
    {
      "cell_type": "markdown",
      "metadata": {
        "id": "3zaUlxwcp-D0"
      },
      "source": [
        "###Meet And Greet\n",
        "Introduce yourself to your new co-workers.\n",
        "\n",
        "📌 Use a f-string to print \"My name is Joey Tribbiani I am 25 years old and I live in London”."
      ]
    },
    {
      "cell_type": "code",
      "source": [
        "#Write a sentence using the print function to describe yourself using the variables above in the correct data type\n",
        "print(f\" My name is {my_name} {my_surname}  .I am {str(my_age)} years old  and I live in {where_i_live}\")\n"
      ],
      "metadata": {
        "id": "XNuh5_2WXwvg",
        "colab": {
          "base_uri": "https://localhost:8080/"
        },
        "outputId": "b3acf509-0d38-4268-ea94-46f7a1ef4bc5"
      },
      "execution_count": 7,
      "outputs": [
        {
          "output_type": "stream",
          "name": "stdout",
          "text": [
            " My name is Mustafa BOZKAYA  .I am 30 years old  and I live in Gaziantep\n"
          ]
        }
      ]
    },
    {
      "cell_type": "markdown",
      "metadata": {
        "id": "EEL9To4ip-D1"
      },
      "source": [
        "### Equipment starter pack\n",
        "The HR department asks you to list the items you would need to improve your work efficiency\n",
        "\n",
        "Mandatory:\n",
        "* Laptop\n",
        "* Headset\n",
        "* Second monitor\n",
        "\n",
        "Optional:\n",
        "* Mousepad\n",
        "* USB drive\n",
        "* External drive\n",
        "\n",
        "\n",
        "📌 Create a shopping list that contains items above and print it."
      ]
    },
    {
      "cell_type": "code",
      "execution_count": 78,
      "metadata": {
        "id": "fPFBLDyqp-D2"
      },
      "outputs": [],
      "source": [
        "#Create the item_list\n",
        "requirement_list=[\"laptop\",\"headset\",\"second monitor\",\"mousepad\",\"usb driver\",\"external drive\"]\n"
      ]
    },
    {
      "cell_type": "code",
      "source": [
        "#Print the list\n",
        "print(*requirement_list,sep=\";\")\n"
      ],
      "metadata": {
        "id": "358R_CN5U2-J",
        "colab": {
          "base_uri": "https://localhost:8080/"
        },
        "outputId": "40c3f1f5-04bf-432d-c292-b46075f1ee7e"
      },
      "execution_count": 64,
      "outputs": [
        {
          "output_type": "stream",
          "name": "stdout",
          "text": [
            "laptop;headset;second monitor;mousepad;usb driver;external drive\n"
          ]
        }
      ]
    },
    {
      "cell_type": "markdown",
      "metadata": {
        "id": "5keEWjCyp-D2"
      },
      "source": [
        "####What is mandatory and what is optional?\n",
        "\n",
        "📌 Use list slicing to devide your list in two list: 'mandatory_item_list' and 'optional_item_list' and print both to the screen."
      ]
    },
    {
      "cell_type": "code",
      "execution_count": 65,
      "metadata": {
        "id": "E6ewuDYZp-D2"
      },
      "outputs": [],
      "source": [
        "#Use list slicing to divide the mandatory items\n",
        "mandatory_items=requirement_list[:3]\n"
      ]
    },
    {
      "cell_type": "code",
      "source": [
        "#Use list slicing to divide the optional items\n",
        "optional_items=requirement_list[:2:-1]\n"
      ],
      "metadata": {
        "id": "hOmkym01RGEL"
      },
      "execution_count": 66,
      "outputs": []
    },
    {
      "cell_type": "code",
      "source": [
        "#Print both to the screen\n",
        "print(*mandatory_items,sep=\"-m-\")\n",
        "print(50*\"=\")\n",
        "print(optional_items)"
      ],
      "metadata": {
        "id": "xsVv1_msVE1_",
        "colab": {
          "base_uri": "https://localhost:8080/"
        },
        "outputId": "fd6974c9-e9c0-46c0-a82d-eeccc5a209b8"
      },
      "execution_count": 67,
      "outputs": [
        {
          "output_type": "stream",
          "name": "stdout",
          "text": [
            "laptop-m-headset-m-second monitor\n",
            "==================================================\n",
            "['external drive', 'usb driver', 'mousepad']\n"
          ]
        }
      ]
    },
    {
      "cell_type": "markdown",
      "metadata": {
        "id": "s_M1Q93wp-D3"
      },
      "source": [
        "#### Go Shopping\n",
        "Next, you will have to go and purchase these items, the finance department confirmed a budget of $5000.\n",
        "\n",
        "📌 Assign 5000 to a variable called limit, so you know how much you can spend."
      ]
    },
    {
      "cell_type": "code",
      "execution_count": 68,
      "metadata": {
        "id": "nCmpm0oqp-D3"
      },
      "outputs": [],
      "source": [
        "#Assign the spending limit value to a variable called limit\n",
        "budget=5000 # $\n"
      ]
    },
    {
      "cell_type": "markdown",
      "metadata": {
        "id": "VwbEEymVp-D3"
      },
      "source": [
        "####Price dictionary\n",
        "\n",
        "Before you start shopping yo need to find the best items that you can buy within the company budget. \n",
        "\n",
        "📌 Prepare a dictionary called “price_sheet” that includes the items as keys and the prices as values.  \n",
        " "
      ]
    },
    {
      "cell_type": "code",
      "execution_count": 69,
      "metadata": {
        "id": "9o9n9Ag-p-D3",
        "colab": {
          "base_uri": "https://localhost:8080/"
        },
        "outputId": "fa165c2c-449a-4bbf-dd6c-ed1677f29bb5"
      },
      "outputs": [
        {
          "output_type": "stream",
          "name": "stdout",
          "text": [
            "{'laptop': 1500, 'headset': 1650, 'second monitor': 1800, 'mousepad': 1950, 'usb driver': 2100, 'external drive': 2250}\n"
          ]
        }
      ],
      "source": [
        "#Create a dictionary that contains each item and its price\n",
        "price_list={\n",
        "   f\"{item}\" : (int(i)+10)*150 for i,item in enumerate(requirement_list)\n",
        "}\n",
        "\n",
        "print(price_list)\n"
      ]
    },
    {
      "cell_type": "markdown",
      "metadata": {
        "id": "rUYivBVEBhCv"
      },
      "source": [
        "####Shopping functions\n",
        "\n",
        "You need to define three functions that will help you during shopping.\n",
        "\n",
        "📌 First, create an empty list that  will be your shopping cart. Here you will add the items you need to purchase.\n",
        "\n",
        "1. Define a function for both adding items to the cart and removing them from the item_list.\n",
        "\n",
        "📌 The \"add_to_cart\" function should take the item name and the quantity to buy as an argument. \n",
        "\n",
        "2. Define a function that will create an invoice. \n",
        "\n",
        "📌 The \"create_invoice\" function should calculate the taxes of each item (18%) and add it to the total amount.\n",
        "\n",
        "3. Define a function for the checkout. \n",
        "\n",
        "📌 The \"checkout\" function should subtract the total amount from the budget and print a statement to inform if the payment was successful. "
      ]
    },
    {
      "cell_type": "code",
      "source": [
        "#Initialize the cart list\n",
        "cart_list=[]"
      ],
      "metadata": {
        "id": "dBNZ2ZdkGHUe"
      },
      "execution_count": 70,
      "outputs": []
    },
    {
      "cell_type": "code",
      "source": [],
      "metadata": {
        "id": "7CdiwVSY6beX"
      },
      "execution_count": 70,
      "outputs": []
    },
    {
      "cell_type": "code",
      "source": [
        "#Define the \"add_to_cart\" function\n",
        "def addTheCart(item,quantity):\n",
        "  \n",
        "  cart_list.append((item,quantity))\n",
        "  requirement_list.remove(item)\n",
        "  \n"
      ],
      "metadata": {
        "id": "HH26hHHFGKPJ"
      },
      "execution_count": 71,
      "outputs": []
    },
    {
      "cell_type": "code",
      "source": [
        "#Define the \"create_invoice\" function\n",
        "def get_invoice():\n",
        "\n",
        "  total_amount=0\n",
        "  for  c_item,quant in cart_list:\n",
        "    \n",
        "        price=price_list[c_item]\n",
        "        total_price=quant*price\n",
        "        total_taxe=total_price*0.18\n",
        "        total_amount+=(total_price+total_taxe)\n",
        "\n",
        "        print(f\" item :{c_item} \\t  price :{price} \\t quantity : {quant} \\t taxe(%18*price) : {total_taxe/quant} \\t  total price(taxe+price) :{total_price+total_taxe}\")\n",
        "        \n",
        "  \n",
        "  print(f\" total price(*Quantity) : {total_price} \\t total taxe(%18*total_price) : {total_taxe} \\t  total amount(taxe+price) :{total_amount}\")\n",
        "        \n",
        "\n",
        "\n",
        "  return total_amount\n",
        "\n"
      ],
      "metadata": {
        "id": "TUmNr4xVGQdm"
      },
      "execution_count": 75,
      "outputs": []
    },
    {
      "cell_type": "code",
      "source": [
        "#Define the \"checkout\" function\n",
        "\n",
        "def checkout_budget():\n",
        "  global budget\n",
        "  total_amount=get_invoice()\n",
        "\n",
        "  if budget==0:\n",
        "    print(\"you have no limit\")\n",
        "  elif (total_amount<=budget):\n",
        "    print( \"yes you have all of this items ,your payments total {}  your  budgets {}\".format(total_amount,budget))\n",
        "\n",
        "  else:\n",
        "    print( \"NO, you dont buy all of this items drop some items ,your payments total {} much than budgets {}\".format(total_amount,budget))\n",
        "\n",
        "\n"
      ],
      "metadata": {
        "id": "iUlKiXgMGdIk"
      },
      "execution_count": 76,
      "outputs": []
    },
    {
      "cell_type": "markdown",
      "source": [
        "Let's shop!"
      ],
      "metadata": {
        "id": "2IFUlu0yB0In"
      }
    },
    {
      "cell_type": "code",
      "source": [
        "#Call the \"add_to_cart\" function for each item\n",
        " \n",
        "#Add first item to cart\n",
        "addTheCart(\"laptop\",1)\n",
        "\n",
        " \n",
        "#Add second item to cart\n",
        "addTheCart(\"headset\",2)\n",
        " \n",
        "#Add third item to cart\n",
        "addTheCart(\"second monitor\",1)\n",
        " \n",
        "#Add fourth item to cart\n",
        "addTheCart(\"usb driver\",2)\n",
        "\n",
        "#Add fifth item to cart\n",
        "addTheCart(\"mousepad\",2)\n",
        "\n",
        " \n",
        "#Add last item to cart\n",
        "addTheCart(\"external drive\",2)\n",
        " \n",
        "#Call the create \"checkout\" function to pay for all your items \n",
        "checkout_budget()\n"
      ],
      "metadata": {
        "id": "FDO7CRJTWPg7",
        "colab": {
          "base_uri": "https://localhost:8080/"
        },
        "outputId": "26aa9bdb-b7ec-4b46-98b1-ab1badbbec66"
      },
      "execution_count": 79,
      "outputs": [
        {
          "output_type": "stream",
          "name": "stdout",
          "text": [
            " item :laptop \t  price :1500 \t quantity : 1 \t taxe(%18*price) : 270.0 \t  total price(taxe+price) :1770.0\n",
            " item :headset \t  price :1650 \t quantity : 2 \t taxe(%18*price) : 297.0 \t  total price(taxe+price) :3894.0\n",
            " item :second monitor \t  price :1800 \t quantity : 1 \t taxe(%18*price) : 324.0 \t  total price(taxe+price) :2124.0\n",
            " item :usb driver \t  price :2100 \t quantity : 2 \t taxe(%18*price) : 378.0 \t  total price(taxe+price) :4956.0\n",
            " item :mousepad \t  price :1950 \t quantity : 2 \t taxe(%18*price) : 351.0 \t  total price(taxe+price) :4602.0\n",
            " item :external drive \t  price :2250 \t quantity : 2 \t taxe(%18*price) : 405.0 \t  total price(taxe+price) :5310.0\n",
            " item :laptop \t  price :1500 \t quantity : 1 \t taxe(%18*price) : 270.0 \t  total price(taxe+price) :1770.0\n",
            " item :laptop \t  price :1500 \t quantity : 1 \t taxe(%18*price) : 270.0 \t  total price(taxe+price) :1770.0\n",
            " item :headset \t  price :1650 \t quantity : 2 \t taxe(%18*price) : 297.0 \t  total price(taxe+price) :3894.0\n",
            " item :second monitor \t  price :1800 \t quantity : 1 \t taxe(%18*price) : 324.0 \t  total price(taxe+price) :2124.0\n",
            " item :usb driver \t  price :2100 \t quantity : 2 \t taxe(%18*price) : 378.0 \t  total price(taxe+price) :4956.0\n",
            " item :mousepad \t  price :1950 \t quantity : 2 \t taxe(%18*price) : 351.0 \t  total price(taxe+price) :4602.0\n",
            " item :external drive \t  price :2250 \t quantity : 2 \t taxe(%18*price) : 405.0 \t  total price(taxe+price) :5310.0\n",
            " total price(*Quantity) : 4500 \t total taxe(%18*total_price) : 810.0 \t  total amount(taxe+price) :47082.0\n",
            "NO, you dont buy all of this items drop some items ,your payments total 47082.0 much than budgets 5000\n"
          ]
        }
      ]
    },
    {
      "cell_type": "markdown",
      "source": [
        "###Game Night\n",
        "\n",
        "You are back at the office and the HR department organizes a welcome party for new employees. \n",
        "\n",
        "You decide to create a Rock-Paper-Scissor game. \n",
        "\n",
        "📌 Create a Rock-Paper-Scissor game in which the user plays against the computer. The player will choose one of the actions, and the computer will choose its action randomly.\n"
      ],
      "metadata": {
        "id": "ZL-r2x_xKixg"
      }
    },
    {
      "cell_type": "code",
      "source": [
        "#Import the random library\n"
      ],
      "metadata": {
        "id": "qzD5pxBTgcFb"
      },
      "execution_count": null,
      "outputs": []
    },
    {
      "cell_type": "code",
      "source": [
        "#create a list containing the three actions of the game.\n"
      ],
      "metadata": {
        "id": "oJv-ihLAgcRo"
      },
      "execution_count": null,
      "outputs": []
    },
    {
      "cell_type": "code",
      "source": [
        "#Set the scores of players to 0\n",
        "\n",
        "\n",
        "#Ask the user how many rounds they want to play\n",
        "\n",
        "\n",
        "#Add a round_counter that is 0 at the beginning\n",
        "\n",
        "\n",
        "#Write a while loop and put the game inside\n",
        "\n",
        "\n",
        "  #Increase round_counter by and print it\n",
        "  \n",
        "\n",
        "\n",
        "  #Select a random action for computer\n",
        "  \n",
        "\n",
        "  #Ask player to choose an action\n",
        "  \n",
        "\n",
        "  #Print the players choices\n",
        "  \n",
        "\n",
        "\n",
        "\n",
        "  #tie condition\n",
        "  \n",
        "\n",
        "\n",
        "  #Remaining conditions\n",
        "  \n",
        "\n",
        "\n",
        "\n",
        "\n",
        "\n",
        "  #Stop the while loop if the round_counter equals the number of total rounds\n",
        "  \n",
        "\n",
        "\n",
        "#Print the outcome of the game by using conditional statements\n"
      ],
      "metadata": {
        "id": "DNUa_9afWqMd"
      },
      "execution_count": null,
      "outputs": []
    },
    {
      "cell_type": "markdown",
      "metadata": {
        "id": "jdrYN0Xgp-D6"
      },
      "source": [
        "# Your first task \n",
        "\n",
        "Rachel asks you to write a program to track the name and revenue each employee brings.  \n",
        "\n",
        "* Create the \"salesperson_revenue\" dictionary to see the employee name as a key and the revenue as a value.\n",
        "\n",
        "  📌 Every employee starts with 0 revenue.\n",
        "* Define the \"enter_revenue\" function. \n",
        "\n",
        "  📌 The function takes the name and revenue as an argument and updates the salesperson_revenue dictionary.\n"
      ]
    },
    {
      "cell_type": "code",
      "source": [
        "#Create salesperson_revenue dictionary\n",
        "\n"
      ],
      "metadata": {
        "id": "3vzRo7hyMRv2"
      },
      "execution_count": null,
      "outputs": []
    },
    {
      "cell_type": "code",
      "source": [
        "#Define enter_revenue function\n",
        "\n"
      ],
      "metadata": {
        "id": "m-8IozBwMRzM"
      },
      "execution_count": null,
      "outputs": []
    },
    {
      "cell_type": "markdown",
      "source": [
        "####Try out the functions\n",
        "* In a while loop ask the user to give the name of the employee and for the revenue \n",
        "\n",
        "  📌 If the user enters “quit” the loop should break.\n",
        "\n",
        "After that, print out the salesperson_revenue dictionary.\n"
      ],
      "metadata": {
        "id": "UnTGSoNTi58u"
      }
    },
    {
      "cell_type": "code",
      "source": [
        "#Asking user employee name as input\n"
      ],
      "metadata": {
        "id": "2E549VvFXNi6"
      },
      "execution_count": null,
      "outputs": []
    },
    {
      "cell_type": "code",
      "source": [
        "#Print the salesperson_revenue dictionary\n"
      ],
      "metadata": {
        "id": "OAvl9rgOXPe6"
      },
      "execution_count": null,
      "outputs": []
    }
  ],
  "metadata": {
    "interpreter": {
      "hash": "c5914ae3790566b9cd0e984a9bdda42a29da8adf046b5ac0173e0d37aacf3dab"
    },
    "kernelspec": {
      "display_name": "Python 3.9.7",
      "language": "python",
      "name": "python3"
    },
    "language_info": {
      "codemirror_mode": {
        "name": "ipython",
        "version": 3
      },
      "file_extension": ".py",
      "mimetype": "text/x-python",
      "name": "python",
      "nbconvert_exporter": "python",
      "pygments_lexer": "ipython3",
      "version": "3.9.7"
    },
    "orig_nbformat": 4,
    "colab": {
      "provenance": [],
      "collapsed_sections": [],
      "include_colab_link": true
    }
  },
  "nbformat": 4,
  "nbformat_minor": 0
}