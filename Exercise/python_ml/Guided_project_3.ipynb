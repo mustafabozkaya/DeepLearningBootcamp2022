{
  "cells": [
    {
      "cell_type": "markdown",
      "metadata": {
        "id": "view-in-github",
        "colab_type": "text"
      },
      "source": [
        "<a href=\"https://colab.research.google.com/github/mustafabozkaya/DeepLearningBootcamp2022/blob/master/Exercise/python_ml/Guided_project_3.ipynb\" target=\"_parent\"><img src=\"https://colab.research.google.com/assets/colab-badge.svg\" alt=\"Open In Colab\"/></a>"
      ]
    },
    {
      "cell_type": "markdown",
      "metadata": {
        "id": "15177c1c"
      },
      "source": [
        "#Chapter 3: Data cleaning exercise\n",
        "\n",
        "### Sales department performance analysis\n",
        "\n",
        "The HR department wants to analyze the performance of the employees in the sales department.\n",
        "\n",
        "### Data Reading\n",
        "Rachel wrote a text file employee_revenue.txt including all necessary information, but she needs help to extract the necessary information.\n",
        "\n",
        "Start by uploading the employee_revenue file to the working directory.\n",
        "\n",
        "📌 Use the .read() method to open the text file in read mode and assign it to the variable \"data\".\n"
      ],
      "id": "15177c1c"
    },
    {
      "cell_type": "code",
      "source": [
        "!pwd"
      ],
      "metadata": {
        "colab": {
          "base_uri": "https://localhost:8080/"
        },
        "id": "xTyM_pi11PGB",
        "outputId": "21aedf7f-181e-424a-b015-f0761db8c43e"
      },
      "id": "xTyM_pi11PGB",
      "execution_count": 2,
      "outputs": [
        {
          "output_type": "stream",
          "name": "stdout",
          "text": [
            "/content\n"
          ]
        }
      ]
    },
    {
      "cell_type": "code",
      "source": [
        "from google.colab import drive\n",
        "drive.mount('/content/drive')"
      ],
      "metadata": {
        "id": "lOLUKSpNCUTB",
        "outputId": "39c17ef8-2179-495d-98f3-3d9cf380a479",
        "colab": {
          "base_uri": "https://localhost:8080/"
        }
      },
      "id": "lOLUKSpNCUTB",
      "execution_count": 4,
      "outputs": [
        {
          "output_type": "stream",
          "name": "stdout",
          "text": [
            "Mounted at /content/drive\n"
          ]
        }
      ]
    },
    {
      "cell_type": "code",
      "source": [
        "# githup folder included from repository\n",
        "%%bash\n",
        "git clone https://github.com/mustafabozkaya/DeepLearningBootcamp2022.git deeplearning/"
      ],
      "metadata": {
        "id": "HmRVLrlOE5tr",
        "outputId": "be8e1e75-a4cc-437c-df11-647caa86b5df",
        "colab": {
          "base_uri": "https://localhost:8080/"
        }
      },
      "id": "HmRVLrlOE5tr",
      "execution_count": 5,
      "outputs": [
        {
          "output_type": "stream",
          "name": "stderr",
          "text": [
            "Cloning into 'deeplearning'...\n"
          ]
        }
      ]
    },
    {
      "cell_type": "code",
      "source": [
        "%ls deeplearning/"
      ],
      "metadata": {
        "id": "yK7adO9oFjqK",
        "outputId": "04a56ac1-76ef-465d-b552-71ea708d1681",
        "colab": {
          "base_uri": "https://localhost:8080/"
        }
      },
      "id": "yK7adO9oFjqK",
      "execution_count": 7,
      "outputs": [
        {
          "output_type": "stream",
          "name": "stdout",
          "text": [
            "\u001b[0m\u001b[01;34mconvolutional_NN\u001b[0m/     \u001b[01;34mExercise\u001b[0m/  Spectogram_Recognition_CNN.ipynb\n",
            "employee_revenue.txt  README.md  urban_sounds_classification.pdf\n"
          ]
        }
      ]
    },
    {
      "cell_type": "code",
      "execution_count": 8,
      "metadata": {
        "id": "da79a8da"
      },
      "outputs": [],
      "source": [
        "#Open the file in read mode\n",
        "with open(\"/content/deeplearning/employee_revenue.txt\",\"r\") as f:\n",
        "\n",
        "  data=f.read()"
      ],
      "id": "da79a8da"
    },
    {
      "cell_type": "code",
      "source": [
        "# print data\n",
        "data"
      ],
      "metadata": {
        "colab": {
          "base_uri": "https://localhost:8080/",
          "height": 157
        },
        "id": "NOmjlMWh3P5w",
        "outputId": "5f07b47b-1814-489a-d12f-ce1c947412b2"
      },
      "id": "NOmjlMWh3P5w",
      "execution_count": 10,
      "outputs": [
        {
          "output_type": "execute_result",
          "data": {
            "text/plain": [
              "'  Ben made 300 calls and generated 2400 dollars last Month with an 8$ average deal size.  \\nomer called 10 times and Sold 2 courses generated 60 dollars last month with a 6$ average deal size.\\n   KAren called 500 people and achieved success by GETting 24$ average deal size, got 12000 dollars revenue.     \\nCeline with 70 calls, made 2275 dollars and 32$ average deal size IN the previous month.  \\n     Sue called 100 people and earned 500 Dollars in REvenue and an AVERAGE DEAL SIZE of 5$ Last month.\\nBora called 100 people generated 770 dollars last month, his average deal size was 25$.  \\nRose made 600 phone calls and GENERATING 4000 dollars a past month 25$ average deal SIZE. \\nEllen made 800 calls and generated 6000 dollars a prior mONTH and reached 40$ the average deal size. \\n bob made 200 phone calls, helped to make a proGress and generated 800 dollars LAST MONTH and gaining 15$ average deal size.\\nTaylor, with 450 calls generated 1200 dollars in revenue pASt month, and the average deal size was 10$. \\n  JuDE made 80 calls and earned 500 dollars for the company last month, her average deal size was 12$.\\n'"
            ],
            "application/vnd.google.colaboratory.intrinsic+json": {
              "type": "string"
            }
          },
          "metadata": {},
          "execution_count": 10
        }
      ]
    },
    {
      "cell_type": "code",
      "source": [
        "# file=open(\"/content/employee_revenue.txt\",\"r\")\n"
      ],
      "metadata": {
        "id": "-qAsDFK11zF3"
      },
      "id": "-qAsDFK11zF3",
      "execution_count": 11,
      "outputs": []
    },
    {
      "cell_type": "code",
      "execution_count": 12,
      "metadata": {
        "id": "75a5de52"
      },
      "outputs": [],
      "source": [
        "#Print the data\n",
        "# data=file.read()\n"
      ],
      "id": "75a5de52"
    },
    {
      "cell_type": "markdown",
      "metadata": {
        "id": "33d4f7ef"
      },
      "source": [
        "### Data Cleaning\n",
        "\n",
        "You can see that the data needs to be cleaned and information has to be extracted from these lines. \n",
        "\n",
        "To be able to clean the data, you need to separate the text into lines.\n",
        "\n",
        "📌 Use the .splitlines() method."
      ],
      "id": "33d4f7ef"
    },
    {
      "cell_type": "code",
      "execution_count": 13,
      "metadata": {
        "id": "9a1a651d",
        "colab": {
          "base_uri": "https://localhost:8080/"
        },
        "outputId": "b7219b9a-f8e4-41c3-8c55-3407086eb9ab"
      },
      "outputs": [
        {
          "output_type": "stream",
          "name": "stdout",
          "text": [
            "  Ben made 300 calls and generated 2400 dollars last Month with an 8$ average deal size.  ||omer called 10 times and Sold 2 courses generated 60 dollars last month with a 6$ average deal size.||   KAren called 500 people and achieved success by GETting 24$ average deal size, got 12000 dollars revenue.     ||Celine with 70 calls, made 2275 dollars and 32$ average deal size IN the previous month.  ||     Sue called 100 people and earned 500 Dollars in REvenue and an AVERAGE DEAL SIZE of 5$ Last month.||Bora called 100 people generated 770 dollars last month, his average deal size was 25$.  ||Rose made 600 phone calls and GENERATING 4000 dollars a past month 25$ average deal SIZE. ||Ellen made 800 calls and generated 6000 dollars a prior mONTH and reached 40$ the average deal size. || bob made 200 phone calls, helped to make a proGress and generated 800 dollars LAST MONTH and gaining 15$ average deal size.||Taylor, with 450 calls generated 1200 dollars in revenue pASt month, and the average deal size was 10$. ||  JuDE made 80 calls and earned 500 dollars for the company last month, her average deal size was 12$.\n"
          ]
        }
      ],
      "source": [
        "#Seperate the data into lines\n",
        "lines=data.splitlines()\n",
        "print(*lines,sep=\"||\")\n"
      ],
      "id": "9a1a651d"
    },
    {
      "cell_type": "code",
      "source": [
        "lines"
      ],
      "metadata": {
        "colab": {
          "base_uri": "https://localhost:8080/"
        },
        "id": "jv953fhBHHmZ",
        "outputId": "8482cd24-81ae-49fc-92da-ee98291e8d14"
      },
      "id": "jv953fhBHHmZ",
      "execution_count": 14,
      "outputs": [
        {
          "output_type": "execute_result",
          "data": {
            "text/plain": [
              "['  Ben made 300 calls and generated 2400 dollars last Month with an 8$ average deal size.  ',\n",
              " 'omer called 10 times and Sold 2 courses generated 60 dollars last month with a 6$ average deal size.',\n",
              " '   KAren called 500 people and achieved success by GETting 24$ average deal size, got 12000 dollars revenue.     ',\n",
              " 'Celine with 70 calls, made 2275 dollars and 32$ average deal size IN the previous month.  ',\n",
              " '     Sue called 100 people and earned 500 Dollars in REvenue and an AVERAGE DEAL SIZE of 5$ Last month.',\n",
              " 'Bora called 100 people generated 770 dollars last month, his average deal size was 25$.  ',\n",
              " 'Rose made 600 phone calls and GENERATING 4000 dollars a past month 25$ average deal SIZE. ',\n",
              " 'Ellen made 800 calls and generated 6000 dollars a prior mONTH and reached 40$ the average deal size. ',\n",
              " ' bob made 200 phone calls, helped to make a proGress and generated 800 dollars LAST MONTH and gaining 15$ average deal size.',\n",
              " 'Taylor, with 450 calls generated 1200 dollars in revenue pASt month, and the average deal size was 10$. ',\n",
              " '  JuDE made 80 calls and earned 500 dollars for the company last month, her average deal size was 12$.']"
            ]
          },
          "metadata": {},
          "execution_count": 14
        }
      ]
    },
    {
      "cell_type": "markdown",
      "metadata": {
        "id": "CKkeig2poz7w"
      },
      "source": [
        "### Clean the data line by line\n",
        "\n",
        "Start to clean the data for the first line.\n",
        "\n",
        "📌 Use the .strip() method to remove the whitespaces from the edges of the string."
      ],
      "id": "CKkeig2poz7w"
    },
    {
      "cell_type": "code",
      "execution_count": 15,
      "metadata": {
        "id": "2332622c",
        "colab": {
          "base_uri": "https://localhost:8080/",
          "height": 35
        },
        "outputId": "cb0a6e19-1e3c-41bd-c5fe-4bbcea0883dc"
      },
      "outputs": [
        {
          "output_type": "execute_result",
          "data": {
            "text/plain": [
              "'  Ben made 300 calls and generated 2400 dollars last Month with an 8$ average deal size.  '"
            ],
            "application/vnd.google.colaboratory.intrinsic+json": {
              "type": "string"
            }
          },
          "metadata": {},
          "execution_count": 15
        }
      ],
      "source": [
        "#Take the first line\n",
        "first_line=lines[0]\n",
        "first_line\n"
      ],
      "id": "2332622c"
    },
    {
      "cell_type": "code",
      "execution_count": 16,
      "metadata": {
        "id": "26219c0d",
        "colab": {
          "base_uri": "https://localhost:8080/",
          "height": 35
        },
        "outputId": "32f3ab80-0770-4d1b-fcf8-51a102b6d872"
      },
      "outputs": [
        {
          "output_type": "execute_result",
          "data": {
            "text/plain": [
              "'Ben made 300 calls and generated 2400 dollars last Month with an 8$ average deal size.'"
            ],
            "application/vnd.google.colaboratory.intrinsic+json": {
              "type": "string"
            }
          },
          "metadata": {},
          "execution_count": 16
        }
      ],
      "source": [
        "#Remove the whitespaces from the edges\n",
        "first_line=first_line.strip()\n",
        "first_line\n"
      ],
      "id": "26219c0d"
    },
    {
      "cell_type": "markdown",
      "metadata": {
        "id": "ed90bfc6"
      },
      "source": [
        "Next, you need to fix the capitalization issues.\n",
        "\n",
        "📌 Use the .lower() method to convert the text to lowercase.\n",
        "\n",
        "📌 Then use the .capitalize() method to capitalize the first letter."
      ],
      "id": "ed90bfc6"
    },
    {
      "cell_type": "code",
      "execution_count": 17,
      "metadata": {
        "id": "ef8bca74",
        "colab": {
          "base_uri": "https://localhost:8080/",
          "height": 35
        },
        "outputId": "84a9418c-277d-4496-cc4f-df98d5950916"
      },
      "outputs": [
        {
          "output_type": "execute_result",
          "data": {
            "text/plain": [
              "'ben made 300 calls and generated 2400 dollars last month with an 8$ average deal size.'"
            ],
            "application/vnd.google.colaboratory.intrinsic+json": {
              "type": "string"
            }
          },
          "metadata": {},
          "execution_count": 17
        }
      ],
      "source": [
        "#Convert the string to lowercase\n",
        "lower=first_line.lower()\n",
        "lower"
      ],
      "id": "ef8bca74"
    },
    {
      "cell_type": "code",
      "execution_count": 18,
      "metadata": {
        "id": "d4be9443",
        "colab": {
          "base_uri": "https://localhost:8080/",
          "height": 35
        },
        "outputId": "6f3a7f75-9c49-452a-d26a-bc56a8a9fb22"
      },
      "outputs": [
        {
          "output_type": "execute_result",
          "data": {
            "text/plain": [
              "'Ben made 300 calls and generated 2400 dollars last month with an 8$ average deal size.'"
            ],
            "application/vnd.google.colaboratory.intrinsic+json": {
              "type": "string"
            }
          },
          "metadata": {},
          "execution_count": 18
        }
      ],
      "source": [
        "#Capitalize the first character\n",
        "capitalize=first_line.capitalize()\n",
        "capitalize\n"
      ],
      "id": "d4be9443"
    },
    {
      "cell_type": "code",
      "source": [
        "#Convert the string to uppercase\n",
        "uppercase=first_line.upper()\n",
        "uppercase"
      ],
      "metadata": {
        "colab": {
          "base_uri": "https://localhost:8080/",
          "height": 35
        },
        "id": "4FFC4K7z8rUy",
        "outputId": "e5e18709-b079-4aff-9974-3847a9c56901"
      },
      "id": "4FFC4K7z8rUy",
      "execution_count": 19,
      "outputs": [
        {
          "output_type": "execute_result",
          "data": {
            "text/plain": [
              "'BEN MADE 300 CALLS AND GENERATED 2400 DOLLARS LAST MONTH WITH AN 8$ AVERAGE DEAL SIZE.'"
            ],
            "application/vnd.google.colaboratory.intrinsic+json": {
              "type": "string"
            }
          },
          "metadata": {},
          "execution_count": 19
        }
      ]
    },
    {
      "cell_type": "markdown",
      "metadata": {
        "id": "f89b01c4"
      },
      "source": [
        "### Information Extraction\n",
        "\n",
        "To extract the information, you need to split the sentence into words. \n",
        "\n",
        "📌 Use the .split() method.\n"
      ],
      "id": "f89b01c4"
    },
    {
      "cell_type": "code",
      "execution_count": 20,
      "metadata": {
        "id": "04ede2fd",
        "colab": {
          "base_uri": "https://localhost:8080/"
        },
        "outputId": "224c66f9-d4fb-470e-e277-2979bf22c0aa"
      },
      "outputs": [
        {
          "output_type": "execute_result",
          "data": {
            "text/plain": [
              "['Ben',\n",
              " 'made',\n",
              " '300',\n",
              " 'calls',\n",
              " 'and',\n",
              " 'generated',\n",
              " '2400',\n",
              " 'dollars',\n",
              " 'last',\n",
              " 'Month',\n",
              " 'with',\n",
              " 'an',\n",
              " '8$',\n",
              " 'average',\n",
              " 'deal',\n",
              " 'size.']"
            ]
          },
          "metadata": {},
          "execution_count": 20
        }
      ],
      "source": [
        "#Split the sentece into words\n",
        "words=first_line.split()\n",
        "words\n"
      ],
      "id": "04ede2fd"
    },
    {
      "cell_type": "markdown",
      "metadata": {
        "id": "9138eb5b"
      },
      "source": [
        "You might noticed that the first element in the list is the name and the third element is the number of calls.\n",
        "\n",
        "📌 Use the indeces to extract the name and number of calls."
      ],
      "id": "9138eb5b"
    },
    {
      "cell_type": "code",
      "execution_count": 21,
      "metadata": {
        "id": "897c59e5",
        "colab": {
          "base_uri": "https://localhost:8080/",
          "height": 35
        },
        "outputId": "9937d0de-fe14-4678-848b-9ac6ed0bdec5"
      },
      "outputs": [
        {
          "output_type": "execute_result",
          "data": {
            "text/plain": [
              "'Ben'"
            ],
            "application/vnd.google.colaboratory.intrinsic+json": {
              "type": "string"
            }
          },
          "metadata": {},
          "execution_count": 21
        }
      ],
      "source": [
        "#Use the index 0 to access the name element\n",
        "name=words[0]\n",
        "name\n"
      ],
      "id": "897c59e5"
    },
    {
      "cell_type": "code",
      "execution_count": 22,
      "metadata": {
        "id": "98103332",
        "colab": {
          "base_uri": "https://localhost:8080/",
          "height": 35
        },
        "outputId": "099f6363-ac7f-4cf3-9531-16c753c2d169"
      },
      "outputs": [
        {
          "output_type": "execute_result",
          "data": {
            "text/plain": [
              "'300'"
            ],
            "application/vnd.google.colaboratory.intrinsic+json": {
              "type": "string"
            }
          },
          "metadata": {},
          "execution_count": 22
        }
      ],
      "source": [
        "#Use the index 2 to access the number of calls element\n",
        "calls=words[2]\n",
        "calls"
      ],
      "id": "98103332"
    },
    {
      "cell_type": "markdown",
      "metadata": {
        "id": "etif7Kb3tEUC"
      },
      "source": [
        "So far so good!\n",
        "\n",
        "But as you can see the sentence order is not the same after the 7th element.\n",
        "\n",
        "To extract the average deal size you need to come up with a different approach. You can use the \"$\" sign to find the corresponding element.\n",
        "\n",
        "📌 Loop over the list to find the element that includes the \"$\" sign.\n",
        "\n",
        "📌 Then, use the .split() method to divide the string into the number and the $ sign."
      ],
      "id": "etif7Kb3tEUC"
    },
    {
      "cell_type": "code",
      "execution_count": 23,
      "metadata": {
        "id": "443a9ddf",
        "colab": {
          "base_uri": "https://localhost:8080/"
        },
        "outputId": "4b4b9902-64c7-49b2-febc-09a98b070370"
      },
      "outputs": [
        {
          "output_type": "stream",
          "name": "stdout",
          "text": [
            "8\n"
          ]
        }
      ],
      "source": [
        "#Find the element with the \"$\" sign\n",
        "for s in words:\n",
        "  if \"$\" in s:\n",
        "\n",
        "  #Divide the number from it\n",
        "    avarage_deal_size=s.split(\"$\")[0]\n",
        "\n",
        "#Print the average deal size\n",
        "print(avarage_deal_size)\n"
      ],
      "id": "443a9ddf"
    },
    {
      "cell_type": "markdown",
      "metadata": {
        "id": "1332df7e"
      },
      "source": [
        "Similarly, we can use the string \"dollars\" to extract the revenue, which is the element right before \"dollars\".\n",
        "\n",
        "📌 Use the .index() method to identify the index for the \"dollars\" element.\n",
        "\n",
        "📌 Then, use this index to specify and extract the revenue."
      ],
      "id": "1332df7e"
    },
    {
      "cell_type": "code",
      "execution_count": 24,
      "metadata": {
        "id": "a00945b0",
        "colab": {
          "base_uri": "https://localhost:8080/"
        },
        "outputId": "a71aaca2-86c3-4203-d130-2f1eb6596c39"
      },
      "outputs": [
        {
          "output_type": "execute_result",
          "data": {
            "text/plain": [
              "7"
            ]
          },
          "metadata": {},
          "execution_count": 24
        }
      ],
      "source": [
        "#Find the index of element \"dollars\"\n",
        "dollars=words.index(\"dollars\")\n",
        "dollars"
      ],
      "id": "a00945b0"
    },
    {
      "cell_type": "code",
      "execution_count": 25,
      "metadata": {
        "id": "c663bd03",
        "colab": {
          "base_uri": "https://localhost:8080/"
        },
        "outputId": "beff22e6-82e0-4590-f9b9-b23f0cd915f2"
      },
      "outputs": [
        {
          "output_type": "execute_result",
          "data": {
            "text/plain": [
              "6"
            ]
          },
          "metadata": {},
          "execution_count": 25
        }
      ],
      "source": [
        "#Subtract one from the index to identify the index of the revenue element\n",
        "revenue_index=dollars-1\n",
        "revenue_index\n"
      ],
      "id": "c663bd03"
    },
    {
      "cell_type": "code",
      "execution_count": 26,
      "metadata": {
        "id": "2831e072",
        "colab": {
          "base_uri": "https://localhost:8080/",
          "height": 35
        },
        "outputId": "f1d4f434-0258-49bb-afcc-786e4d48811f"
      },
      "outputs": [
        {
          "output_type": "execute_result",
          "data": {
            "text/plain": [
              "'2400'"
            ],
            "application/vnd.google.colaboratory.intrinsic+json": {
              "type": "string"
            }
          },
          "metadata": {},
          "execution_count": 26
        }
      ],
      "source": [
        "#Extract the revenue\n",
        "revenue=words[revenue_index]\n",
        "revenue\n",
        "\n"
      ],
      "id": "2831e072"
    },
    {
      "cell_type": "markdown",
      "metadata": {
        "id": "537ed4c2"
      },
      "source": [
        "Great! You extracted all necessary information.\n",
        "\n",
        "📌 Print the information and check the types of the data."
      ],
      "id": "537ed4c2"
    },
    {
      "cell_type": "code",
      "execution_count": 27,
      "metadata": {
        "id": "ace2c99f",
        "colab": {
          "base_uri": "https://localhost:8080/"
        },
        "outputId": "2a7ab432-e855-43c0-f54d-e8474d1a612c"
      },
      "outputs": [
        {
          "output_type": "stream",
          "name": "stdout",
          "text": [
            " Employee name :Ben\n",
            " Employee calls number :300\n",
            " Employee revenue :2400\n",
            " Employee avarage deal size($) : :8\n"
          ]
        }
      ],
      "source": [
        "#Print out the extracted information\n",
        "print(f\" Employee name :{name}\")\n",
        "\n",
        "print(f\" Employee calls number :{calls}\")\n",
        "\n",
        "print(f\" Employee revenue :{revenue}\")\n",
        "\n",
        "print(f\" Employee avarage deal size($) : :{avarage_deal_size}\")\n",
        "\n",
        "\n",
        "\n"
      ],
      "id": "ace2c99f"
    },
    {
      "cell_type": "code",
      "execution_count": 28,
      "metadata": {
        "id": "SwAyLOAInasY",
        "colab": {
          "base_uri": "https://localhost:8080/"
        },
        "outputId": "6e969fe6-48c0-41ce-f329-a9e12b45c6bd"
      },
      "outputs": [
        {
          "output_type": "stream",
          "name": "stdout",
          "text": [
            " Employee name variable type :<class 'str'>\n",
            " Employee calls  variable type :<class 'str'>\n",
            " Employee revenue variable type :<class 'str'>\n",
            " Employee avaragedeal size  variable type :<class 'str'>\n"
          ]
        }
      ],
      "source": [
        "#Check the types\n",
        "print(f\" Employee name variable type :{type(name)}\")\n",
        "print(f\" Employee calls  variable type :{type(calls)}\")\n",
        "print(f\" Employee revenue variable type :{type(revenue)}\")\n",
        "print(f\" Employee avaragedeal size  variable type :{type(avarage_deal_size)}\")\n",
        "\n",
        "\n"
      ],
      "id": "SwAyLOAInasY"
    },
    {
      "cell_type": "markdown",
      "metadata": {
        "id": "08f5b5fd"
      },
      "source": [
        "As you can see, we have the type string for all the data, but the average deal size, number of calls, and the revenue need to be integers. \n",
        "\n",
        "📌 Convert the data using the int() function and check again."
      ],
      "id": "08f5b5fd"
    },
    {
      "cell_type": "code",
      "execution_count": 29,
      "metadata": {
        "id": "5f42e3f0",
        "colab": {
          "base_uri": "https://localhost:8080/"
        },
        "outputId": "cfc9c35a-5ebf-424e-9dca-daf511732e95"
      },
      "outputs": [
        {
          "output_type": "stream",
          "name": "stdout",
          "text": [
            " Employee name variable type :<class 'str'>\n",
            " Employee calls  variable type :<class 'int'>\n",
            " Employee revenue variable type :<class 'int'>\n",
            " Employee avaragedeal size  variable type :<class 'int'>\n"
          ]
        }
      ],
      "source": [
        "#Convert the datatypes of average deal size, number of calls, and revenue\n",
        "#Check the types\n",
        "print(f\" Employee name variable type :{type(name)}\")\n",
        "print(f\" Employee calls  variable type :{type(int(calls))}\")\n",
        "print(f\" Employee revenue variable type :{type(int(revenue))}\")\n",
        "print(f\" Employee avaragedeal size  variable type :{type(int(avarage_deal_size))}\")"
      ],
      "id": "5f42e3f0"
    },
    {
      "cell_type": "code",
      "execution_count": 30,
      "metadata": {
        "id": "89dc6fa1",
        "colab": {
          "base_uri": "https://localhost:8080/"
        },
        "outputId": "49083da7-a5e4-4a3c-dced-d0f3ee421e35"
      },
      "outputs": [
        {
          "output_type": "stream",
          "name": "stdout",
          "text": [
            " Employee name :Ben\n",
            " Employee calls number :300\n",
            " Employee revenue :2400\n",
            " Employee avarage deal size($) : :8\n"
          ]
        }
      ],
      "source": [
        "#Print out the information again\n",
        "print(f\" Employee name :{name}\")\n",
        "\n",
        "print(f\" Employee calls number :{calls}\")\n",
        "\n",
        "print(f\" Employee revenue :{revenue}\")\n",
        "\n",
        "print(f\" Employee avarage deal size($) : :{avarage_deal_size}\")\n",
        "\n"
      ],
      "id": "89dc6fa1"
    },
    {
      "cell_type": "markdown",
      "metadata": {
        "id": "0b194713"
      },
      "source": [
        "Now, you need to apply all the methods and functions to the list that contains the different strings of all employees.\n",
        "\n",
        "📌 Create an empty lists for storing names, number of calls, average deal sizes, and revenues.\n",
        "\n",
        "📌 Use a for loop to iterate through the list with the whole data.\n",
        "\n",
        "📌 Print out the necessary information."
      ],
      "id": "0b194713"
    },
    {
      "cell_type": "code",
      "execution_count": 31,
      "metadata": {
        "id": "5a4aab7e"
      },
      "outputs": [],
      "source": [
        "#Create empty lists for the names, number of calls, average deal sizes, revenues\n",
        "names=[]\n",
        "calls_numbers=[]\n",
        "revenues=[]\n",
        "avarage_deal_sizes=[]\n"
      ],
      "id": "5a4aab7e"
    },
    {
      "cell_type": "code",
      "execution_count": 32,
      "metadata": {
        "id": "2366069b",
        "colab": {
          "base_uri": "https://localhost:8080/"
        },
        "outputId": "a99bd7b8-f0b3-43d1-ef1f-a33ecdaf970b"
      },
      "outputs": [
        {
          "output_type": "stream",
          "name": "stdout",
          "text": [
            " Employee names :['Ben', 'Omer', 'Karen', 'Celine', 'Sue', 'Bora', 'Rose', 'Ellen', 'Bob', 'Taylor,', 'Jude']\n",
            " Employee calls numbers :[300, 10, 500, 70, 100, 100, 600, 800, 200, 450, 80]\n",
            " Employee revenues :[2400, 60, 12000, 2275, 500, 770, 4000, 6000, 800, 1200, 500]\n",
            " Employee avarage deal sizes($) : :['8', 8, '6', 6, '24', 24, '32', 32, '5', 5, '25', 25, '25', 25, '40', 40, '15', 15, '10', 10, '12', 12]\n"
          ]
        }
      ],
      "source": [
        "#Loop over the whole data\n",
        "for line in lines:\n",
        "    #Clean the string\n",
        "    line=line.strip()\n",
        "    line=line.lower()\n",
        "    line=line.capitalize()\n",
        "\n",
        "\n",
        "    #Split the clean string\n",
        "    words=line.split(\" \")\n",
        "    \n",
        "    \n",
        "    #Extract the name\n",
        "    name=words[0]\n",
        "    calls_num=words[2]\n",
        "    \n",
        "\n",
        "    #Extract the average deal size\n",
        "    for word in words:\n",
        "      if \"$\" in word:\n",
        "        avarage_deal=word.split(\"$\")[0]\n",
        "        avarage_deal_sizes.append(avarage_deal)\n",
        " \n",
        "\n",
        "    #Extract the revenue\n",
        "    dollar_index=words.index(\"dollars\")\n",
        "    revenue_idx=dollar_index-1\n",
        "    revenue=words[revenue_idx]\n",
        "\n",
        "\n",
        "    #Convert to the correct data types\n",
        "    calls_num=int(calls_num)\n",
        "    avarage_deal=int(avarage_deal)\n",
        "    revenue=int(revenue)\n",
        "\n",
        "\n",
        "\n",
        "    #Append the information to the lists\n",
        "    names.append(name)\n",
        "    calls_numbers.append(calls_num)\n",
        "    avarage_deal_sizes.append(avarage_deal)\n",
        "    revenues.append(revenue)\n",
        "\n",
        "\n",
        "#Print out the information\n",
        "\n",
        "print(f\" Employee names :{names}\")\n",
        "\n",
        "print(f\" Employee calls numbers :{calls_numbers}\")\n",
        "\n",
        "print(f\" Employee revenues :{revenues}\")\n",
        "\n",
        "print(f\" Employee avarage deal sizes($) : :{avarage_deal_sizes}\")"
      ],
      "id": "2366069b"
    },
    {
      "cell_type": "markdown",
      "metadata": {
        "id": "4d848787"
      },
      "source": [
        "Finally, you can make the process even easier and reusable by defining functions.\n",
        "\n",
        "📌 Define the function \"clean_extract\".\n",
        "\n",
        "📌 Use the retured values by assigning them to variables."
      ],
      "id": "4d848787"
    },
    {
      "cell_type": "code",
      "execution_count": 33,
      "metadata": {
        "id": "_ipfpGrirCs7"
      },
      "outputs": [],
      "source": [
        "#Create empty lists again\n",
        "names=[]\n",
        "calls_numbers=[]\n",
        "revenues=[]\n",
        "avarage_deal_sizes=[]"
      ],
      "id": "_ipfpGrirCs7"
    },
    {
      "cell_type": "code",
      "execution_count": 44,
      "metadata": {
        "id": "tnFT5Fk2qu_x"
      },
      "outputs": [],
      "source": [
        "import time\n",
        "#Define a function to clean and extract the data\n",
        "def clean_extract(lines):\n",
        "  time_start=time.time()\n",
        "    #Loop over the whole data\n",
        "  for line in lines:\n",
        "    #Clean the string\n",
        "    line=line.strip()\n",
        "    line=line.lower()\n",
        "    line=line.capitalize()\n",
        "\n",
        "\n",
        "    #Split the clean string\n",
        "    words=line.split(\" \")\n",
        "    \n",
        "    \n",
        "    #Extract the name\n",
        "    name=words[0]\n",
        "    calls_num=words[2]\n",
        "    \n",
        "\n",
        "    #Extract the average deal size\n",
        "    for word in words:\n",
        "      if \"$\" in word:\n",
        "        avarage_deal=word.split(\"$\")[0]\n",
        "        avarage_deal_sizes.append(avarage_deal)\n",
        " \n",
        "\n",
        "    #Extract the revenue\n",
        "    dollar_index=words.index(\"dollars\")\n",
        "    revenue_idx=dollar_index-1\n",
        "    revenue=words[revenue_idx]\n",
        "\n",
        "\n",
        "    #Convert to the correct data types\n",
        "    calls_num=int(calls_num)\n",
        "    avarage_deal=int(avarage_deal)\n",
        "    revenue=int(revenue)\n",
        "\n",
        "\n",
        "\n",
        "    #Append the information to the lists\n",
        "    names.append(name)\n",
        "    calls_numbers.append(calls_num)\n",
        "    avarage_deal_sizes.append(avarage_deal)\n",
        "    revenues.append(revenue)\n",
        "  time_end=time.time()\n",
        "  print(\" the elapsed  processing time is: \",str(time_end-time_start))\n",
        "\n",
        "\n",
        "  return names, calls_numbers,avarage_deal_sizes,revenues\n"
      ],
      "id": "tnFT5Fk2qu_x"
    },
    {
      "cell_type": "code",
      "execution_count": 45,
      "metadata": {
        "id": "13b0fe6b",
        "colab": {
          "base_uri": "https://localhost:8080/"
        },
        "outputId": "8a6e6b8a-8cef-47f9-9149-7ac3013a1def"
      },
      "outputs": [
        {
          "output_type": "stream",
          "name": "stdout",
          "text": [
            " the elapsed  processing time is:  6.771087646484375e-05\n"
          ]
        }
      ],
      "source": [
        "#Assign returned values to variables\n",
        "names, calls_numbers,avarage_deal_sizes,revenues=clean_extract(lines)\n"
      ],
      "id": "13b0fe6b"
    },
    {
      "cell_type": "code",
      "execution_count": 36,
      "metadata": {
        "id": "44e38957",
        "colab": {
          "base_uri": "https://localhost:8080/"
        },
        "outputId": "06054844-de9e-4949-965a-c15e3d505946"
      },
      "outputs": [
        {
          "output_type": "stream",
          "name": "stdout",
          "text": [
            " Employee names :['Ben', 'Omer', 'Karen', 'Celine', 'Sue', 'Bora', 'Rose', 'Ellen', 'Bob', 'Taylor,', 'Jude']\n",
            " Employee calls numbers :[300, 10, 500, 70, 100, 100, 600, 800, 200, 450, 80]\n",
            " Employee revenues :[2400, 60, 12000, 2275, 500, 770, 4000, 6000, 800, 1200, 500]\n",
            " Employee avarage deal sizes($) : :['8', 8, '6', 6, '24', 24, '32', 32, '5', 5, '25', 25, '25', 25, '40', 40, '15', 15, '10', 10, '12', 12]\n"
          ]
        }
      ],
      "source": [
        "#Print out the information\n",
        "\n",
        "\n",
        "print(f\" Employee names :{names}\")\n",
        "\n",
        "print(f\" Employee calls numbers :{calls_numbers}\")\n",
        "\n",
        "print(f\" Employee revenues :{revenues}\")\n",
        "\n",
        "print(f\" Employee avarage deal sizes($) : :{avarage_deal_sizes}\")\n"
      ],
      "id": "44e38957"
    },
    {
      "cell_type": "markdown",
      "metadata": {
        "id": "26efe652"
      },
      "source": [
        "### Performance Analysis Report\n",
        "\n",
        "Now that you cleaned the string and extracted all the information using the function, you can create performance analysis report for the last month.\n",
        "\n",
        "📌 Assign IDs to each employee.\n",
        "\n",
        "📌 Create dictionaries.\n",
        "\n",
        "📌 Sort the dictionaries.\n",
        "\n",
        "\n"
      ],
      "id": "26efe652"
    },
    {
      "cell_type": "markdown",
      "metadata": {
        "id": "ZT7mAK3M5k3W"
      },
      "source": [
        "First, check how many employees there are and assign the IDs.\n",
        "\n",
        "📌 Use the len() and range() function.\n"
      ],
      "id": "ZT7mAK3M5k3W"
    },
    {
      "cell_type": "code",
      "execution_count": 37,
      "metadata": {
        "id": "f20ff52f",
        "colab": {
          "base_uri": "https://localhost:8080/"
        },
        "outputId": "0d09c04d-2fa7-4b9c-d957-8f65b056000c"
      },
      "outputs": [
        {
          "output_type": "execute_result",
          "data": {
            "text/plain": [
              "11"
            ]
          },
          "metadata": {},
          "execution_count": 37
        }
      ],
      "source": [
        "#Check the number of employees\n",
        "employee_num=len(names)\n",
        "employee_num\n"
      ],
      "id": "f20ff52f"
    },
    {
      "cell_type": "code",
      "execution_count": 38,
      "metadata": {
        "id": "5c62caf8",
        "colab": {
          "base_uri": "https://localhost:8080/"
        },
        "outputId": "97b7ac7e-1bb8-46a8-9e3f-d1c0ec888db8"
      },
      "outputs": [
        {
          "output_type": "execute_result",
          "data": {
            "text/plain": [
              "[0, 1, 2, 3, 4, 5, 6, 7, 8, 9, 10]"
            ]
          },
          "metadata": {},
          "execution_count": 38
        }
      ],
      "source": [
        "#Generate IDs\n",
        "IDs=[id for id in range(employee_num)]\n",
        "IDs\n"
      ],
      "id": "5c62caf8"
    },
    {
      "cell_type": "code",
      "execution_count": 39,
      "metadata": {
        "id": "28cd8ce6",
        "colab": {
          "base_uri": "https://localhost:8080/"
        },
        "outputId": "58192922-c575-4f74-fe5a-727ddabf1add"
      },
      "outputs": [
        {
          "output_type": "execute_result",
          "data": {
            "text/plain": [
              "11"
            ]
          },
          "metadata": {},
          "execution_count": 39
        }
      ],
      "source": [
        "#Check the number of IDs\n",
        "ids_num=len(IDs)\n",
        "ids_num\n"
      ],
      "id": "28cd8ce6"
    },
    {
      "cell_type": "markdown",
      "metadata": {
        "id": "NKP6Yoto6eqP"
      },
      "source": [
        "With the IDs ready, you need to assign the IDs to the employees.\n",
        "\n",
        "📌 Use the zip() function to pair the employee with the ID.\n",
        "\n",
        "📌 Convert the zip object into a dictionary."
      ],
      "id": "NKP6Yoto6eqP"
    },
    {
      "cell_type": "code",
      "execution_count": 40,
      "metadata": {
        "id": "7e56a43f",
        "colab": {
          "base_uri": "https://localhost:8080/"
        },
        "outputId": "51e15891-500d-41c2-c0b8-24fc357ba9d1"
      },
      "outputs": [
        {
          "output_type": "execute_result",
          "data": {
            "text/plain": [
              "{0: 'Ben',\n",
              " 1: 'Omer',\n",
              " 2: 'Karen',\n",
              " 3: 'Celine',\n",
              " 4: 'Sue',\n",
              " 5: 'Bora',\n",
              " 6: 'Rose',\n",
              " 7: 'Ellen',\n",
              " 8: 'Bob',\n",
              " 9: 'Taylor,',\n",
              " 10: 'Jude'}"
            ]
          },
          "metadata": {},
          "execution_count": 40
        }
      ],
      "source": [
        "#Pair the names with the IDs in a dictionary\n",
        "employee_ids=dict(zip(IDs,names))\n",
        "employee_ids"
      ],
      "id": "7e56a43f"
    },
    {
      "cell_type": "markdown",
      "metadata": {
        "id": "429d7b7f"
      },
      "source": [
        "Similarly, create a dictionary for the  employees and their revenues."
      ],
      "id": "429d7b7f"
    },
    {
      "cell_type": "code",
      "execution_count": 41,
      "metadata": {
        "id": "aa2c6560",
        "colab": {
          "base_uri": "https://localhost:8080/"
        },
        "outputId": "5fd80c21-c474-4e42-c555-e146fe101197"
      },
      "outputs": [
        {
          "output_type": "execute_result",
          "data": {
            "text/plain": [
              "{0: 2400,\n",
              " 1: 60,\n",
              " 2: 12000,\n",
              " 3: 2275,\n",
              " 4: 500,\n",
              " 5: 770,\n",
              " 6: 4000,\n",
              " 7: 6000,\n",
              " 8: 800,\n",
              " 9: 1200,\n",
              " 10: 500}"
            ]
          },
          "metadata": {},
          "execution_count": 41
        }
      ],
      "source": [
        "#Pair the names with the revenues\n",
        "employee_id_revenue=dict(zip(employee_ids,revenues))\n",
        "employee_id_revenue\n"
      ],
      "id": "aa2c6560"
    },
    {
      "cell_type": "markdown",
      "metadata": {
        "id": "Ou3ne5Vn76N_"
      },
      "source": [
        "Finally, you need to find the employees with the best and lowest performance.\n",
        "\n",
        "📌 Sort the dictionary using the sorted() function in ascending and descending order.\n"
      ],
      "id": "Ou3ne5Vn76N_"
    },
    {
      "cell_type": "code",
      "execution_count": 42,
      "metadata": {
        "id": "d348a929"
      },
      "outputs": [],
      "source": [
        "#Find the lowest performing employees (ascending order)\n"
      ],
      "id": "d348a929"
    },
    {
      "cell_type": "code",
      "execution_count": 43,
      "metadata": {
        "id": "3210f1ad"
      },
      "outputs": [],
      "source": [
        "#Find the best performing employees (descending order)\n"
      ],
      "id": "3210f1ad"
    }
  ],
  "metadata": {
    "colab": {
      "collapsed_sections": [],
      "provenance": [],
      "include_colab_link": true
    },
    "kernelspec": {
      "display_name": "Python 3",
      "language": "python",
      "name": "python3"
    },
    "language_info": {
      "codemirror_mode": {
        "name": "ipython",
        "version": 3
      },
      "file_extension": ".py",
      "mimetype": "text/x-python",
      "name": "python",
      "nbconvert_exporter": "python",
      "pygments_lexer": "ipython3",
      "version": "3.8.8"
    }
  },
  "nbformat": 4,
  "nbformat_minor": 5
}