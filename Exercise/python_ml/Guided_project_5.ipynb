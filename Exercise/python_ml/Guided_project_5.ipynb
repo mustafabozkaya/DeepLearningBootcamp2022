{
  "cells": [
    {
      "cell_type": "markdown",
      "metadata": {
        "id": "view-in-github",
        "colab_type": "text"
      },
      "source": [
        "<a href=\"https://colab.research.google.com/github/mustafabozkaya/DeepLearningBootcamp2022/blob/master/Exercise/python_ml/Guided_project_5.ipynb\" target=\"_parent\"><img src=\"https://colab.research.google.com/assets/colab-badge.svg\" alt=\"Open In Colab\"/></a>"
      ]
    },
    {
      "cell_type": "markdown",
      "source": [
        "# Chapter 5\n",
        "##Pandas\n",
        "The sales department wants to compare the performances of this and last year. Firstly, they delivered your team the performance review from last year. The data is in a comma-separated format, a .csv file called “employee_revenue_lastyear.csv”. It is in tabular form and includes information about 11 employees. \n"
      ],
      "metadata": {
        "id": "tibOSNE10bt5"
      },
      "id": "tibOSNE10bt5"
    },
    {
      "cell_type": "code",
      "source": [],
      "metadata": {
        "id": "_Sl8yGoqFEjW"
      },
      "id": "_Sl8yGoqFEjW",
      "execution_count": null,
      "outputs": []
    },
    {
      "cell_type": "code",
      "source": [
        "from google.colab import drive\n",
        "drive.mount('/content/mydrive')"
      ],
      "metadata": {
        "colab": {
          "base_uri": "https://localhost:8080/"
        },
        "id": "RjJOwgWZFFHf",
        "outputId": "77c71653-79d8-46b7-f427-a4f2bcaf41c9"
      },
      "id": "RjJOwgWZFFHf",
      "execution_count": null,
      "outputs": [
        {
          "output_type": "stream",
          "name": "stdout",
          "text": [
            "Mounted at /content/mydrive\n"
          ]
        }
      ]
    },
    {
      "cell_type": "code",
      "source": [
        "!rm -rf ../content/deeplearning"
      ],
      "metadata": {
        "id": "ZYcOXzLcK2SL"
      },
      "id": "ZYcOXzLcK2SL",
      "execution_count": null,
      "outputs": []
    },
    {
      "cell_type": "code",
      "source": [
        "# githup folder included from repository\n",
        "%%bash\n",
        "git clone https://github.com/mustafabozkaya/DeepLearningBootcamp2022.git deeplearning/\n"
      ],
      "metadata": {
        "colab": {
          "base_uri": "https://localhost:8080/"
        },
        "id": "2kj-NdS6FGnt",
        "outputId": "09b567bb-53d4-44d6-e230-2b042c39ef5b"
      },
      "id": "2kj-NdS6FGnt",
      "execution_count": null,
      "outputs": [
        {
          "output_type": "stream",
          "name": "stderr",
          "text": [
            "Cloning into 'deeplearning'...\n"
          ]
        }
      ]
    },
    {
      "cell_type": "code",
      "source": [
        "%ls deeplearning/"
      ],
      "metadata": {
        "id": "spi4IJbRFJ9_"
      },
      "id": "spi4IJbRFJ9_",
      "execution_count": null,
      "outputs": []
    },
    {
      "cell_type": "markdown",
      "id": "72638c41",
      "metadata": {
        "id": "72638c41"
      },
      "source": [
        "###Importing libraries\n",
        "First, you need to import the required libraries. \n",
        "\n",
        "📌 Import the Pandas and NumPy libraries."
      ]
    },
    {
      "cell_type": "code",
      "execution_count": null,
      "id": "12c57f6a",
      "metadata": {
        "id": "12c57f6a"
      },
      "outputs": [],
      "source": [
        "#Import Pandas and NumPy\n",
        "import numpy as np\n",
        "import  pandas as pd\n"
      ]
    },
    {
      "cell_type": "markdown",
      "id": "8363aa4f",
      "metadata": {
        "id": "8363aa4f"
      },
      "source": [
        "###Get the data from last year\n",
        "Next, you need to get the data from the .csv file that the sales team provided. \n",
        "\n",
        "📌 Use the .read_csv() function of the Pandas library to import the data from \"employee_revenue_lastyear.csv\" and assign it to the variable \"last_year\"."
      ]
    },
    {
      "cell_type": "code",
      "execution_count": null,
      "id": "e198825c",
      "metadata": {
        "id": "e198825c"
      },
      "outputs": [],
      "source": [
        "#Read the data from the \"employee_revenue_lastyear.csv\" file using the .read_csv() method\n",
        "last_year =pd.read_csv(\"../content/deeplearning/employee_revenue_lastyear.csv\")\n",
        "\n"
      ]
    },
    {
      "cell_type": "markdown",
      "id": "15df0bc3",
      "metadata": {
        "id": "15df0bc3"
      },
      "source": [
        "###Check the imported data\n",
        "It is important to check if everything is included. But you don't need to see the whole DataFrame, it will be enough to see the first and last rows.\n",
        "\n",
        "📌 Use the .head() function to get the first n-rows of the DataFrame:\n",
        "  1. Without specifying any number to get the first 5 rows by default.\n",
        "  2. Give a number n as an argument to print the first n-rows, for example 8."
      ]
    },
    {
      "cell_type": "code",
      "execution_count": null,
      "id": "f609da6d",
      "metadata": {
        "id": "f609da6d",
        "colab": {
          "base_uri": "https://localhost:8080/",
          "height": 206
        },
        "outputId": "83fc24a3-2296-4301-99f7-b9eae7f49de1"
      },
      "outputs": [
        {
          "output_type": "execute_result",
          "data": {
            "text/plain": [
              "     Name  Number of Calls  Average Deal Size  Revenue\n",
              "0    Omer              400                8.0   2000.0\n",
              "1  Arnold              150               10.0   1000.0\n",
              "2   Aidan              170               15.0   2000.0\n",
              "3     Sue              220                5.0   1000.0\n",
              "4     Ben              140               22.0      NaN"
            ],
            "text/html": [
              "\n",
              "  <div id=\"df-8fe1214a-21d7-45b2-9d68-096278d072b1\">\n",
              "    <div class=\"colab-df-container\">\n",
              "      <div>\n",
              "<style scoped>\n",
              "    .dataframe tbody tr th:only-of-type {\n",
              "        vertical-align: middle;\n",
              "    }\n",
              "\n",
              "    .dataframe tbody tr th {\n",
              "        vertical-align: top;\n",
              "    }\n",
              "\n",
              "    .dataframe thead th {\n",
              "        text-align: right;\n",
              "    }\n",
              "</style>\n",
              "<table border=\"1\" class=\"dataframe\">\n",
              "  <thead>\n",
              "    <tr style=\"text-align: right;\">\n",
              "      <th></th>\n",
              "      <th>Name</th>\n",
              "      <th>Number of Calls</th>\n",
              "      <th>Average Deal Size</th>\n",
              "      <th>Revenue</th>\n",
              "    </tr>\n",
              "  </thead>\n",
              "  <tbody>\n",
              "    <tr>\n",
              "      <th>0</th>\n",
              "      <td>Omer</td>\n",
              "      <td>400</td>\n",
              "      <td>8.0</td>\n",
              "      <td>2000.0</td>\n",
              "    </tr>\n",
              "    <tr>\n",
              "      <th>1</th>\n",
              "      <td>Arnold</td>\n",
              "      <td>150</td>\n",
              "      <td>10.0</td>\n",
              "      <td>1000.0</td>\n",
              "    </tr>\n",
              "    <tr>\n",
              "      <th>2</th>\n",
              "      <td>Aidan</td>\n",
              "      <td>170</td>\n",
              "      <td>15.0</td>\n",
              "      <td>2000.0</td>\n",
              "    </tr>\n",
              "    <tr>\n",
              "      <th>3</th>\n",
              "      <td>Sue</td>\n",
              "      <td>220</td>\n",
              "      <td>5.0</td>\n",
              "      <td>1000.0</td>\n",
              "    </tr>\n",
              "    <tr>\n",
              "      <th>4</th>\n",
              "      <td>Ben</td>\n",
              "      <td>140</td>\n",
              "      <td>22.0</td>\n",
              "      <td>NaN</td>\n",
              "    </tr>\n",
              "  </tbody>\n",
              "</table>\n",
              "</div>\n",
              "      <button class=\"colab-df-convert\" onclick=\"convertToInteractive('df-8fe1214a-21d7-45b2-9d68-096278d072b1')\"\n",
              "              title=\"Convert this dataframe to an interactive table.\"\n",
              "              style=\"display:none;\">\n",
              "        \n",
              "  <svg xmlns=\"http://www.w3.org/2000/svg\" height=\"24px\"viewBox=\"0 0 24 24\"\n",
              "       width=\"24px\">\n",
              "    <path d=\"M0 0h24v24H0V0z\" fill=\"none\"/>\n",
              "    <path d=\"M18.56 5.44l.94 2.06.94-2.06 2.06-.94-2.06-.94-.94-2.06-.94 2.06-2.06.94zm-11 1L8.5 8.5l.94-2.06 2.06-.94-2.06-.94L8.5 2.5l-.94 2.06-2.06.94zm10 10l.94 2.06.94-2.06 2.06-.94-2.06-.94-.94-2.06-.94 2.06-2.06.94z\"/><path d=\"M17.41 7.96l-1.37-1.37c-.4-.4-.92-.59-1.43-.59-.52 0-1.04.2-1.43.59L10.3 9.45l-7.72 7.72c-.78.78-.78 2.05 0 2.83L4 21.41c.39.39.9.59 1.41.59.51 0 1.02-.2 1.41-.59l7.78-7.78 2.81-2.81c.8-.78.8-2.07 0-2.86zM5.41 20L4 18.59l7.72-7.72 1.47 1.35L5.41 20z\"/>\n",
              "  </svg>\n",
              "      </button>\n",
              "      \n",
              "  <style>\n",
              "    .colab-df-container {\n",
              "      display:flex;\n",
              "      flex-wrap:wrap;\n",
              "      gap: 12px;\n",
              "    }\n",
              "\n",
              "    .colab-df-convert {\n",
              "      background-color: #E8F0FE;\n",
              "      border: none;\n",
              "      border-radius: 50%;\n",
              "      cursor: pointer;\n",
              "      display: none;\n",
              "      fill: #1967D2;\n",
              "      height: 32px;\n",
              "      padding: 0 0 0 0;\n",
              "      width: 32px;\n",
              "    }\n",
              "\n",
              "    .colab-df-convert:hover {\n",
              "      background-color: #E2EBFA;\n",
              "      box-shadow: 0px 1px 2px rgba(60, 64, 67, 0.3), 0px 1px 3px 1px rgba(60, 64, 67, 0.15);\n",
              "      fill: #174EA6;\n",
              "    }\n",
              "\n",
              "    [theme=dark] .colab-df-convert {\n",
              "      background-color: #3B4455;\n",
              "      fill: #D2E3FC;\n",
              "    }\n",
              "\n",
              "    [theme=dark] .colab-df-convert:hover {\n",
              "      background-color: #434B5C;\n",
              "      box-shadow: 0px 1px 3px 1px rgba(0, 0, 0, 0.15);\n",
              "      filter: drop-shadow(0px 1px 2px rgba(0, 0, 0, 0.3));\n",
              "      fill: #FFFFFF;\n",
              "    }\n",
              "  </style>\n",
              "\n",
              "      <script>\n",
              "        const buttonEl =\n",
              "          document.querySelector('#df-8fe1214a-21d7-45b2-9d68-096278d072b1 button.colab-df-convert');\n",
              "        buttonEl.style.display =\n",
              "          google.colab.kernel.accessAllowed ? 'block' : 'none';\n",
              "\n",
              "        async function convertToInteractive(key) {\n",
              "          const element = document.querySelector('#df-8fe1214a-21d7-45b2-9d68-096278d072b1');\n",
              "          const dataTable =\n",
              "            await google.colab.kernel.invokeFunction('convertToInteractive',\n",
              "                                                     [key], {});\n",
              "          if (!dataTable) return;\n",
              "\n",
              "          const docLinkHtml = 'Like what you see? Visit the ' +\n",
              "            '<a target=\"_blank\" href=https://colab.research.google.com/notebooks/data_table.ipynb>data table notebook</a>'\n",
              "            + ' to learn more about interactive tables.';\n",
              "          element.innerHTML = '';\n",
              "          dataTable['output_type'] = 'display_data';\n",
              "          await google.colab.output.renderOutput(dataTable, element);\n",
              "          const docLink = document.createElement('div');\n",
              "          docLink.innerHTML = docLinkHtml;\n",
              "          element.appendChild(docLink);\n",
              "        }\n",
              "      </script>\n",
              "    </div>\n",
              "  </div>\n",
              "  "
            ]
          },
          "metadata": {},
          "execution_count": 10
        }
      ],
      "source": [
        "#Use the .head() function without specifying any number\n",
        "last_year.head()"
      ]
    },
    {
      "cell_type": "code",
      "execution_count": null,
      "id": "4c109687",
      "metadata": {
        "id": "4c109687",
        "colab": {
          "base_uri": "https://localhost:8080/",
          "height": 363
        },
        "outputId": "b4c00309-e3dd-47f2-b20b-c63f496e7835"
      },
      "outputs": [
        {
          "output_type": "execute_result",
          "data": {
            "text/plain": [
              "     Name  Number of Calls  Average Deal Size  Revenue\n",
              "0    Omer              400                8.0   2000.0\n",
              "1  Arnold              150               10.0   1000.0\n",
              "2   Aidan              170               15.0   2000.0\n",
              "3     Sue              220                5.0   1000.0\n",
              "4     Ben              140               22.0      NaN\n",
              "5    Rose              350                8.0   1800.0\n",
              "6    Lucy               50               12.0    500.0\n",
              "7   Ellen              560                NaN   3300.0\n",
              "8   Karen               20               25.0    500.0\n",
              "9  Jamaal               30               30.0    800.0"
            ],
            "text/html": [
              "\n",
              "  <div id=\"df-be8be3b0-70f9-44ea-ab23-ac299b3eb7db\">\n",
              "    <div class=\"colab-df-container\">\n",
              "      <div>\n",
              "<style scoped>\n",
              "    .dataframe tbody tr th:only-of-type {\n",
              "        vertical-align: middle;\n",
              "    }\n",
              "\n",
              "    .dataframe tbody tr th {\n",
              "        vertical-align: top;\n",
              "    }\n",
              "\n",
              "    .dataframe thead th {\n",
              "        text-align: right;\n",
              "    }\n",
              "</style>\n",
              "<table border=\"1\" class=\"dataframe\">\n",
              "  <thead>\n",
              "    <tr style=\"text-align: right;\">\n",
              "      <th></th>\n",
              "      <th>Name</th>\n",
              "      <th>Number of Calls</th>\n",
              "      <th>Average Deal Size</th>\n",
              "      <th>Revenue</th>\n",
              "    </tr>\n",
              "  </thead>\n",
              "  <tbody>\n",
              "    <tr>\n",
              "      <th>0</th>\n",
              "      <td>Omer</td>\n",
              "      <td>400</td>\n",
              "      <td>8.0</td>\n",
              "      <td>2000.0</td>\n",
              "    </tr>\n",
              "    <tr>\n",
              "      <th>1</th>\n",
              "      <td>Arnold</td>\n",
              "      <td>150</td>\n",
              "      <td>10.0</td>\n",
              "      <td>1000.0</td>\n",
              "    </tr>\n",
              "    <tr>\n",
              "      <th>2</th>\n",
              "      <td>Aidan</td>\n",
              "      <td>170</td>\n",
              "      <td>15.0</td>\n",
              "      <td>2000.0</td>\n",
              "    </tr>\n",
              "    <tr>\n",
              "      <th>3</th>\n",
              "      <td>Sue</td>\n",
              "      <td>220</td>\n",
              "      <td>5.0</td>\n",
              "      <td>1000.0</td>\n",
              "    </tr>\n",
              "    <tr>\n",
              "      <th>4</th>\n",
              "      <td>Ben</td>\n",
              "      <td>140</td>\n",
              "      <td>22.0</td>\n",
              "      <td>NaN</td>\n",
              "    </tr>\n",
              "    <tr>\n",
              "      <th>5</th>\n",
              "      <td>Rose</td>\n",
              "      <td>350</td>\n",
              "      <td>8.0</td>\n",
              "      <td>1800.0</td>\n",
              "    </tr>\n",
              "    <tr>\n",
              "      <th>6</th>\n",
              "      <td>Lucy</td>\n",
              "      <td>50</td>\n",
              "      <td>12.0</td>\n",
              "      <td>500.0</td>\n",
              "    </tr>\n",
              "    <tr>\n",
              "      <th>7</th>\n",
              "      <td>Ellen</td>\n",
              "      <td>560</td>\n",
              "      <td>NaN</td>\n",
              "      <td>3300.0</td>\n",
              "    </tr>\n",
              "    <tr>\n",
              "      <th>8</th>\n",
              "      <td>Karen</td>\n",
              "      <td>20</td>\n",
              "      <td>25.0</td>\n",
              "      <td>500.0</td>\n",
              "    </tr>\n",
              "    <tr>\n",
              "      <th>9</th>\n",
              "      <td>Jamaal</td>\n",
              "      <td>30</td>\n",
              "      <td>30.0</td>\n",
              "      <td>800.0</td>\n",
              "    </tr>\n",
              "  </tbody>\n",
              "</table>\n",
              "</div>\n",
              "      <button class=\"colab-df-convert\" onclick=\"convertToInteractive('df-be8be3b0-70f9-44ea-ab23-ac299b3eb7db')\"\n",
              "              title=\"Convert this dataframe to an interactive table.\"\n",
              "              style=\"display:none;\">\n",
              "        \n",
              "  <svg xmlns=\"http://www.w3.org/2000/svg\" height=\"24px\"viewBox=\"0 0 24 24\"\n",
              "       width=\"24px\">\n",
              "    <path d=\"M0 0h24v24H0V0z\" fill=\"none\"/>\n",
              "    <path d=\"M18.56 5.44l.94 2.06.94-2.06 2.06-.94-2.06-.94-.94-2.06-.94 2.06-2.06.94zm-11 1L8.5 8.5l.94-2.06 2.06-.94-2.06-.94L8.5 2.5l-.94 2.06-2.06.94zm10 10l.94 2.06.94-2.06 2.06-.94-2.06-.94-.94-2.06-.94 2.06-2.06.94z\"/><path d=\"M17.41 7.96l-1.37-1.37c-.4-.4-.92-.59-1.43-.59-.52 0-1.04.2-1.43.59L10.3 9.45l-7.72 7.72c-.78.78-.78 2.05 0 2.83L4 21.41c.39.39.9.59 1.41.59.51 0 1.02-.2 1.41-.59l7.78-7.78 2.81-2.81c.8-.78.8-2.07 0-2.86zM5.41 20L4 18.59l7.72-7.72 1.47 1.35L5.41 20z\"/>\n",
              "  </svg>\n",
              "      </button>\n",
              "      \n",
              "  <style>\n",
              "    .colab-df-container {\n",
              "      display:flex;\n",
              "      flex-wrap:wrap;\n",
              "      gap: 12px;\n",
              "    }\n",
              "\n",
              "    .colab-df-convert {\n",
              "      background-color: #E8F0FE;\n",
              "      border: none;\n",
              "      border-radius: 50%;\n",
              "      cursor: pointer;\n",
              "      display: none;\n",
              "      fill: #1967D2;\n",
              "      height: 32px;\n",
              "      padding: 0 0 0 0;\n",
              "      width: 32px;\n",
              "    }\n",
              "\n",
              "    .colab-df-convert:hover {\n",
              "      background-color: #E2EBFA;\n",
              "      box-shadow: 0px 1px 2px rgba(60, 64, 67, 0.3), 0px 1px 3px 1px rgba(60, 64, 67, 0.15);\n",
              "      fill: #174EA6;\n",
              "    }\n",
              "\n",
              "    [theme=dark] .colab-df-convert {\n",
              "      background-color: #3B4455;\n",
              "      fill: #D2E3FC;\n",
              "    }\n",
              "\n",
              "    [theme=dark] .colab-df-convert:hover {\n",
              "      background-color: #434B5C;\n",
              "      box-shadow: 0px 1px 3px 1px rgba(0, 0, 0, 0.15);\n",
              "      filter: drop-shadow(0px 1px 2px rgba(0, 0, 0, 0.3));\n",
              "      fill: #FFFFFF;\n",
              "    }\n",
              "  </style>\n",
              "\n",
              "      <script>\n",
              "        const buttonEl =\n",
              "          document.querySelector('#df-be8be3b0-70f9-44ea-ab23-ac299b3eb7db button.colab-df-convert');\n",
              "        buttonEl.style.display =\n",
              "          google.colab.kernel.accessAllowed ? 'block' : 'none';\n",
              "\n",
              "        async function convertToInteractive(key) {\n",
              "          const element = document.querySelector('#df-be8be3b0-70f9-44ea-ab23-ac299b3eb7db');\n",
              "          const dataTable =\n",
              "            await google.colab.kernel.invokeFunction('convertToInteractive',\n",
              "                                                     [key], {});\n",
              "          if (!dataTable) return;\n",
              "\n",
              "          const docLinkHtml = 'Like what you see? Visit the ' +\n",
              "            '<a target=\"_blank\" href=https://colab.research.google.com/notebooks/data_table.ipynb>data table notebook</a>'\n",
              "            + ' to learn more about interactive tables.';\n",
              "          element.innerHTML = '';\n",
              "          dataTable['output_type'] = 'display_data';\n",
              "          await google.colab.output.renderOutput(dataTable, element);\n",
              "          const docLink = document.createElement('div');\n",
              "          docLink.innerHTML = docLinkHtml;\n",
              "          element.appendChild(docLink);\n",
              "        }\n",
              "      </script>\n",
              "    </div>\n",
              "  </div>\n",
              "  "
            ]
          },
          "metadata": {},
          "execution_count": 11
        }
      ],
      "source": [
        "#Use the .head() function with a number n as an argument\n",
        "last_year.head(10)"
      ]
    },
    {
      "cell_type": "markdown",
      "id": "7b1d4717",
      "metadata": {
        "id": "7b1d4717"
      },
      "source": [
        "📌 Use the .tail() function to get the last n-rows of the DataFrame:\n",
        "  1. Without specifying any number to get the last 5 rows by default.\n",
        "  2. Give a number n as an argument to print the last n-rows, for example 6."
      ]
    },
    {
      "cell_type": "code",
      "execution_count": null,
      "id": "ecb4f068",
      "metadata": {
        "id": "ecb4f068",
        "colab": {
          "base_uri": "https://localhost:8080/",
          "height": 206
        },
        "outputId": "d4d92c98-6e54-479c-f640-47e41a0711e0"
      },
      "outputs": [
        {
          "output_type": "execute_result",
          "data": {
            "text/plain": [
              "      Name  Number of Calls  Average Deal Size  Revenue\n",
              "6     Lucy               50               12.0    500.0\n",
              "7    Ellen              560                NaN   3300.0\n",
              "8    Karen               20               25.0    500.0\n",
              "9   Jamaal               30               30.0    800.0\n",
              "10    Omer              400                8.0   2000.0"
            ],
            "text/html": [
              "\n",
              "  <div id=\"df-987010dc-fa2c-4533-b1de-f62a74b5672b\">\n",
              "    <div class=\"colab-df-container\">\n",
              "      <div>\n",
              "<style scoped>\n",
              "    .dataframe tbody tr th:only-of-type {\n",
              "        vertical-align: middle;\n",
              "    }\n",
              "\n",
              "    .dataframe tbody tr th {\n",
              "        vertical-align: top;\n",
              "    }\n",
              "\n",
              "    .dataframe thead th {\n",
              "        text-align: right;\n",
              "    }\n",
              "</style>\n",
              "<table border=\"1\" class=\"dataframe\">\n",
              "  <thead>\n",
              "    <tr style=\"text-align: right;\">\n",
              "      <th></th>\n",
              "      <th>Name</th>\n",
              "      <th>Number of Calls</th>\n",
              "      <th>Average Deal Size</th>\n",
              "      <th>Revenue</th>\n",
              "    </tr>\n",
              "  </thead>\n",
              "  <tbody>\n",
              "    <tr>\n",
              "      <th>6</th>\n",
              "      <td>Lucy</td>\n",
              "      <td>50</td>\n",
              "      <td>12.0</td>\n",
              "      <td>500.0</td>\n",
              "    </tr>\n",
              "    <tr>\n",
              "      <th>7</th>\n",
              "      <td>Ellen</td>\n",
              "      <td>560</td>\n",
              "      <td>NaN</td>\n",
              "      <td>3300.0</td>\n",
              "    </tr>\n",
              "    <tr>\n",
              "      <th>8</th>\n",
              "      <td>Karen</td>\n",
              "      <td>20</td>\n",
              "      <td>25.0</td>\n",
              "      <td>500.0</td>\n",
              "    </tr>\n",
              "    <tr>\n",
              "      <th>9</th>\n",
              "      <td>Jamaal</td>\n",
              "      <td>30</td>\n",
              "      <td>30.0</td>\n",
              "      <td>800.0</td>\n",
              "    </tr>\n",
              "    <tr>\n",
              "      <th>10</th>\n",
              "      <td>Omer</td>\n",
              "      <td>400</td>\n",
              "      <td>8.0</td>\n",
              "      <td>2000.0</td>\n",
              "    </tr>\n",
              "  </tbody>\n",
              "</table>\n",
              "</div>\n",
              "      <button class=\"colab-df-convert\" onclick=\"convertToInteractive('df-987010dc-fa2c-4533-b1de-f62a74b5672b')\"\n",
              "              title=\"Convert this dataframe to an interactive table.\"\n",
              "              style=\"display:none;\">\n",
              "        \n",
              "  <svg xmlns=\"http://www.w3.org/2000/svg\" height=\"24px\"viewBox=\"0 0 24 24\"\n",
              "       width=\"24px\">\n",
              "    <path d=\"M0 0h24v24H0V0z\" fill=\"none\"/>\n",
              "    <path d=\"M18.56 5.44l.94 2.06.94-2.06 2.06-.94-2.06-.94-.94-2.06-.94 2.06-2.06.94zm-11 1L8.5 8.5l.94-2.06 2.06-.94-2.06-.94L8.5 2.5l-.94 2.06-2.06.94zm10 10l.94 2.06.94-2.06 2.06-.94-2.06-.94-.94-2.06-.94 2.06-2.06.94z\"/><path d=\"M17.41 7.96l-1.37-1.37c-.4-.4-.92-.59-1.43-.59-.52 0-1.04.2-1.43.59L10.3 9.45l-7.72 7.72c-.78.78-.78 2.05 0 2.83L4 21.41c.39.39.9.59 1.41.59.51 0 1.02-.2 1.41-.59l7.78-7.78 2.81-2.81c.8-.78.8-2.07 0-2.86zM5.41 20L4 18.59l7.72-7.72 1.47 1.35L5.41 20z\"/>\n",
              "  </svg>\n",
              "      </button>\n",
              "      \n",
              "  <style>\n",
              "    .colab-df-container {\n",
              "      display:flex;\n",
              "      flex-wrap:wrap;\n",
              "      gap: 12px;\n",
              "    }\n",
              "\n",
              "    .colab-df-convert {\n",
              "      background-color: #E8F0FE;\n",
              "      border: none;\n",
              "      border-radius: 50%;\n",
              "      cursor: pointer;\n",
              "      display: none;\n",
              "      fill: #1967D2;\n",
              "      height: 32px;\n",
              "      padding: 0 0 0 0;\n",
              "      width: 32px;\n",
              "    }\n",
              "\n",
              "    .colab-df-convert:hover {\n",
              "      background-color: #E2EBFA;\n",
              "      box-shadow: 0px 1px 2px rgba(60, 64, 67, 0.3), 0px 1px 3px 1px rgba(60, 64, 67, 0.15);\n",
              "      fill: #174EA6;\n",
              "    }\n",
              "\n",
              "    [theme=dark] .colab-df-convert {\n",
              "      background-color: #3B4455;\n",
              "      fill: #D2E3FC;\n",
              "    }\n",
              "\n",
              "    [theme=dark] .colab-df-convert:hover {\n",
              "      background-color: #434B5C;\n",
              "      box-shadow: 0px 1px 3px 1px rgba(0, 0, 0, 0.15);\n",
              "      filter: drop-shadow(0px 1px 2px rgba(0, 0, 0, 0.3));\n",
              "      fill: #FFFFFF;\n",
              "    }\n",
              "  </style>\n",
              "\n",
              "      <script>\n",
              "        const buttonEl =\n",
              "          document.querySelector('#df-987010dc-fa2c-4533-b1de-f62a74b5672b button.colab-df-convert');\n",
              "        buttonEl.style.display =\n",
              "          google.colab.kernel.accessAllowed ? 'block' : 'none';\n",
              "\n",
              "        async function convertToInteractive(key) {\n",
              "          const element = document.querySelector('#df-987010dc-fa2c-4533-b1de-f62a74b5672b');\n",
              "          const dataTable =\n",
              "            await google.colab.kernel.invokeFunction('convertToInteractive',\n",
              "                                                     [key], {});\n",
              "          if (!dataTable) return;\n",
              "\n",
              "          const docLinkHtml = 'Like what you see? Visit the ' +\n",
              "            '<a target=\"_blank\" href=https://colab.research.google.com/notebooks/data_table.ipynb>data table notebook</a>'\n",
              "            + ' to learn more about interactive tables.';\n",
              "          element.innerHTML = '';\n",
              "          dataTable['output_type'] = 'display_data';\n",
              "          await google.colab.output.renderOutput(dataTable, element);\n",
              "          const docLink = document.createElement('div');\n",
              "          docLink.innerHTML = docLinkHtml;\n",
              "          element.appendChild(docLink);\n",
              "        }\n",
              "      </script>\n",
              "    </div>\n",
              "  </div>\n",
              "  "
            ]
          },
          "metadata": {},
          "execution_count": 12
        }
      ],
      "source": [
        "#Use the .tail() function without specifying any number\n",
        "last_year.tail()"
      ]
    },
    {
      "cell_type": "code",
      "execution_count": null,
      "id": "39ed1b7f",
      "metadata": {
        "id": "39ed1b7f",
        "colab": {
          "base_uri": "https://localhost:8080/",
          "height": 363
        },
        "outputId": "03336a2f-a100-41cc-b27a-8b5b40e6d308"
      },
      "outputs": [
        {
          "output_type": "execute_result",
          "data": {
            "text/plain": [
              "      Name  Number of Calls  Average Deal Size  Revenue\n",
              "1   Arnold              150               10.0   1000.0\n",
              "2    Aidan              170               15.0   2000.0\n",
              "3      Sue              220                5.0   1000.0\n",
              "4      Ben              140               22.0      NaN\n",
              "5     Rose              350                8.0   1800.0\n",
              "6     Lucy               50               12.0    500.0\n",
              "7    Ellen              560                NaN   3300.0\n",
              "8    Karen               20               25.0    500.0\n",
              "9   Jamaal               30               30.0    800.0\n",
              "10    Omer              400                8.0   2000.0"
            ],
            "text/html": [
              "\n",
              "  <div id=\"df-dea4efdb-2b6e-4bf9-9d79-11198f53602b\">\n",
              "    <div class=\"colab-df-container\">\n",
              "      <div>\n",
              "<style scoped>\n",
              "    .dataframe tbody tr th:only-of-type {\n",
              "        vertical-align: middle;\n",
              "    }\n",
              "\n",
              "    .dataframe tbody tr th {\n",
              "        vertical-align: top;\n",
              "    }\n",
              "\n",
              "    .dataframe thead th {\n",
              "        text-align: right;\n",
              "    }\n",
              "</style>\n",
              "<table border=\"1\" class=\"dataframe\">\n",
              "  <thead>\n",
              "    <tr style=\"text-align: right;\">\n",
              "      <th></th>\n",
              "      <th>Name</th>\n",
              "      <th>Number of Calls</th>\n",
              "      <th>Average Deal Size</th>\n",
              "      <th>Revenue</th>\n",
              "    </tr>\n",
              "  </thead>\n",
              "  <tbody>\n",
              "    <tr>\n",
              "      <th>1</th>\n",
              "      <td>Arnold</td>\n",
              "      <td>150</td>\n",
              "      <td>10.0</td>\n",
              "      <td>1000.0</td>\n",
              "    </tr>\n",
              "    <tr>\n",
              "      <th>2</th>\n",
              "      <td>Aidan</td>\n",
              "      <td>170</td>\n",
              "      <td>15.0</td>\n",
              "      <td>2000.0</td>\n",
              "    </tr>\n",
              "    <tr>\n",
              "      <th>3</th>\n",
              "      <td>Sue</td>\n",
              "      <td>220</td>\n",
              "      <td>5.0</td>\n",
              "      <td>1000.0</td>\n",
              "    </tr>\n",
              "    <tr>\n",
              "      <th>4</th>\n",
              "      <td>Ben</td>\n",
              "      <td>140</td>\n",
              "      <td>22.0</td>\n",
              "      <td>NaN</td>\n",
              "    </tr>\n",
              "    <tr>\n",
              "      <th>5</th>\n",
              "      <td>Rose</td>\n",
              "      <td>350</td>\n",
              "      <td>8.0</td>\n",
              "      <td>1800.0</td>\n",
              "    </tr>\n",
              "    <tr>\n",
              "      <th>6</th>\n",
              "      <td>Lucy</td>\n",
              "      <td>50</td>\n",
              "      <td>12.0</td>\n",
              "      <td>500.0</td>\n",
              "    </tr>\n",
              "    <tr>\n",
              "      <th>7</th>\n",
              "      <td>Ellen</td>\n",
              "      <td>560</td>\n",
              "      <td>NaN</td>\n",
              "      <td>3300.0</td>\n",
              "    </tr>\n",
              "    <tr>\n",
              "      <th>8</th>\n",
              "      <td>Karen</td>\n",
              "      <td>20</td>\n",
              "      <td>25.0</td>\n",
              "      <td>500.0</td>\n",
              "    </tr>\n",
              "    <tr>\n",
              "      <th>9</th>\n",
              "      <td>Jamaal</td>\n",
              "      <td>30</td>\n",
              "      <td>30.0</td>\n",
              "      <td>800.0</td>\n",
              "    </tr>\n",
              "    <tr>\n",
              "      <th>10</th>\n",
              "      <td>Omer</td>\n",
              "      <td>400</td>\n",
              "      <td>8.0</td>\n",
              "      <td>2000.0</td>\n",
              "    </tr>\n",
              "  </tbody>\n",
              "</table>\n",
              "</div>\n",
              "      <button class=\"colab-df-convert\" onclick=\"convertToInteractive('df-dea4efdb-2b6e-4bf9-9d79-11198f53602b')\"\n",
              "              title=\"Convert this dataframe to an interactive table.\"\n",
              "              style=\"display:none;\">\n",
              "        \n",
              "  <svg xmlns=\"http://www.w3.org/2000/svg\" height=\"24px\"viewBox=\"0 0 24 24\"\n",
              "       width=\"24px\">\n",
              "    <path d=\"M0 0h24v24H0V0z\" fill=\"none\"/>\n",
              "    <path d=\"M18.56 5.44l.94 2.06.94-2.06 2.06-.94-2.06-.94-.94-2.06-.94 2.06-2.06.94zm-11 1L8.5 8.5l.94-2.06 2.06-.94-2.06-.94L8.5 2.5l-.94 2.06-2.06.94zm10 10l.94 2.06.94-2.06 2.06-.94-2.06-.94-.94-2.06-.94 2.06-2.06.94z\"/><path d=\"M17.41 7.96l-1.37-1.37c-.4-.4-.92-.59-1.43-.59-.52 0-1.04.2-1.43.59L10.3 9.45l-7.72 7.72c-.78.78-.78 2.05 0 2.83L4 21.41c.39.39.9.59 1.41.59.51 0 1.02-.2 1.41-.59l7.78-7.78 2.81-2.81c.8-.78.8-2.07 0-2.86zM5.41 20L4 18.59l7.72-7.72 1.47 1.35L5.41 20z\"/>\n",
              "  </svg>\n",
              "      </button>\n",
              "      \n",
              "  <style>\n",
              "    .colab-df-container {\n",
              "      display:flex;\n",
              "      flex-wrap:wrap;\n",
              "      gap: 12px;\n",
              "    }\n",
              "\n",
              "    .colab-df-convert {\n",
              "      background-color: #E8F0FE;\n",
              "      border: none;\n",
              "      border-radius: 50%;\n",
              "      cursor: pointer;\n",
              "      display: none;\n",
              "      fill: #1967D2;\n",
              "      height: 32px;\n",
              "      padding: 0 0 0 0;\n",
              "      width: 32px;\n",
              "    }\n",
              "\n",
              "    .colab-df-convert:hover {\n",
              "      background-color: #E2EBFA;\n",
              "      box-shadow: 0px 1px 2px rgba(60, 64, 67, 0.3), 0px 1px 3px 1px rgba(60, 64, 67, 0.15);\n",
              "      fill: #174EA6;\n",
              "    }\n",
              "\n",
              "    [theme=dark] .colab-df-convert {\n",
              "      background-color: #3B4455;\n",
              "      fill: #D2E3FC;\n",
              "    }\n",
              "\n",
              "    [theme=dark] .colab-df-convert:hover {\n",
              "      background-color: #434B5C;\n",
              "      box-shadow: 0px 1px 3px 1px rgba(0, 0, 0, 0.15);\n",
              "      filter: drop-shadow(0px 1px 2px rgba(0, 0, 0, 0.3));\n",
              "      fill: #FFFFFF;\n",
              "    }\n",
              "  </style>\n",
              "\n",
              "      <script>\n",
              "        const buttonEl =\n",
              "          document.querySelector('#df-dea4efdb-2b6e-4bf9-9d79-11198f53602b button.colab-df-convert');\n",
              "        buttonEl.style.display =\n",
              "          google.colab.kernel.accessAllowed ? 'block' : 'none';\n",
              "\n",
              "        async function convertToInteractive(key) {\n",
              "          const element = document.querySelector('#df-dea4efdb-2b6e-4bf9-9d79-11198f53602b');\n",
              "          const dataTable =\n",
              "            await google.colab.kernel.invokeFunction('convertToInteractive',\n",
              "                                                     [key], {});\n",
              "          if (!dataTable) return;\n",
              "\n",
              "          const docLinkHtml = 'Like what you see? Visit the ' +\n",
              "            '<a target=\"_blank\" href=https://colab.research.google.com/notebooks/data_table.ipynb>data table notebook</a>'\n",
              "            + ' to learn more about interactive tables.';\n",
              "          element.innerHTML = '';\n",
              "          dataTable['output_type'] = 'display_data';\n",
              "          await google.colab.output.renderOutput(dataTable, element);\n",
              "          const docLink = document.createElement('div');\n",
              "          docLink.innerHTML = docLinkHtml;\n",
              "          element.appendChild(docLink);\n",
              "        }\n",
              "      </script>\n",
              "    </div>\n",
              "  </div>\n",
              "  "
            ]
          },
          "metadata": {},
          "execution_count": 13
        }
      ],
      "source": [
        "#Use the .tail() function with a number n as an argument\n",
        "last_year.tail(10)"
      ]
    },
    {
      "cell_type": "markdown",
      "id": "eb4a1671",
      "metadata": {
        "id": "eb4a1671"
      },
      "source": [
        "Another way to quickly get the number of rows and columns is using the shape attribute.\n",
        "\n",
        "📌 Use the *shape* attribute to display the number of rows and columns."
      ]
    },
    {
      "cell_type": "code",
      "execution_count": null,
      "id": "9faef542",
      "metadata": {
        "id": "9faef542",
        "colab": {
          "base_uri": "https://localhost:8080/"
        },
        "outputId": "ec2402a8-9bad-4921-e674-9acf1952c7f3"
      },
      "outputs": [
        {
          "output_type": "execute_result",
          "data": {
            "text/plain": [
              "(11, 4)"
            ]
          },
          "metadata": {},
          "execution_count": 14
        }
      ],
      "source": [
        "#Use the shape attribute to display the number of rows and columns \n",
        "last_year.shape"
      ]
    },
    {
      "cell_type": "markdown",
      "id": "b4f6debd",
      "metadata": {
        "id": "b4f6debd"
      },
      "source": [
        "If you want to get more details about the DataFrame, you can use the .info() function.\n",
        "\n",
        "📌 Use the .info() function to get more details about the DataFrame."
      ]
    },
    {
      "cell_type": "code",
      "execution_count": null,
      "id": "91b7885a",
      "metadata": {
        "id": "91b7885a",
        "colab": {
          "base_uri": "https://localhost:8080/"
        },
        "outputId": "956676c5-0892-4b12-b217-ac86fdcf1542"
      },
      "outputs": [
        {
          "output_type": "stream",
          "name": "stdout",
          "text": [
            "<class 'pandas.core.frame.DataFrame'>\n",
            "RangeIndex: 11 entries, 0 to 10\n",
            "Data columns (total 4 columns):\n",
            " #   Column             Non-Null Count  Dtype  \n",
            "---  ------             --------------  -----  \n",
            " 0   Name               11 non-null     object \n",
            " 1   Number of Calls    11 non-null     int64  \n",
            " 2   Average Deal Size  10 non-null     float64\n",
            " 3   Revenue            10 non-null     float64\n",
            "dtypes: float64(2), int64(1), object(1)\n",
            "memory usage: 480.0+ bytes\n"
          ]
        }
      ],
      "source": [
        "#Use the .info() function to get more details\n",
        "last_year.info()"
      ]
    },
    {
      "cell_type": "markdown",
      "id": "c8018dfd",
      "metadata": {
        "id": "c8018dfd"
      },
      "source": [
        "###Add information to the DataFrame\n",
        "Now you should have enough insights about the DataFrame. :)\n",
        "\n",
        "You know that the data in the DataFrame is from 2021. This information should be included, so you decide to add the column \"Year\".\n",
        "\n",
        "📌 Add the column \"Year\" to the DataFrame and pass the value \"2021\" to its rows. Then display the DataFrame to see the result."
      ]
    },
    {
      "cell_type": "code",
      "execution_count": null,
      "id": "84ca959b",
      "metadata": {
        "id": "84ca959b"
      },
      "outputs": [],
      "source": [
        "#Add the column \"Year\" and assign the value \"2021\" to its rows\n",
        "for i in range(len(names)):\n",
        "  \n",
        "last_year.append()\n",
        "\n",
        "#Display the DataFrame\n"
      ]
    },
    {
      "cell_type": "markdown",
      "id": "5fd0ab2f",
      "metadata": {
        "id": "5fd0ab2f"
      },
      "source": [
        "### Get the data from this year\n",
        "\n",
        "You also need to add the data from this year to be able to compare both years.\n",
        "You already prepared this data in chapter 4.\n",
        "\n",
        "📌 Copy and paste the NumPy arrays \"names\", \"call_numbers\", \"average_deal_sizes\", and \"revenues\" from chapter 4."
      ]
    },
    {
      "cell_type": "code",
      "execution_count": null,
      "id": "1ac4f458",
      "metadata": {
        "id": "1ac4f458"
      },
      "outputs": [],
      "source": [
        "#Copy and paste the NumPy arrays \"names\", \"call_numbers\", \"average_deal_sizes\", and \"revenues\"\n"
      ]
    },
    {
      "cell_type": "markdown",
      "id": "fdd7b85b",
      "metadata": {
        "id": "fdd7b85b"
      },
      "source": [
        "Now create a DataFrame using these arrays. \n",
        "\n",
        "📌 Create a dictionary with the arrays. Specify the column names in the keys.\n",
        "\n",
        "📌 Convert the dictionary to a Pandas DataFrame \"current_year\" and use the .head() function to check it."
      ]
    },
    {
      "cell_type": "code",
      "execution_count": null,
      "id": "cba9c5c5",
      "metadata": {
        "id": "cba9c5c5"
      },
      "outputs": [],
      "source": [
        "#Create a dictionary with the column names as keys and the arrays as values\n",
        "\n",
        "#Convert the dictionary to a Pandas Dataframe\n",
        "\n",
        "#Use the .head() function to check it\n"
      ]
    },
    {
      "cell_type": "markdown",
      "id": "036b6b7b",
      "metadata": {
        "id": "036b6b7b"
      },
      "source": [
        "Similar to what we did with last year's data, add the year information.\n",
        "\n",
        "📌 Add the column \"Year\" to the DataFrame and pass the value \"2022\" to its rows. Then use the .head() function to see the result."
      ]
    },
    {
      "cell_type": "code",
      "execution_count": null,
      "id": "93d19278",
      "metadata": {
        "id": "93d19278"
      },
      "outputs": [],
      "source": [
        "#Add the column \"Year\" and assign the value \"2022\" to its rows\n",
        "\n",
        "#Use the .head() function to see the result\n"
      ]
    },
    {
      "cell_type": "markdown",
      "id": "30a98a5b",
      "metadata": {
        "id": "30a98a5b"
      },
      "source": [
        "###Compare the two DataFrames\n",
        "\n",
        "Now that you printed the DataFrame \"current_year\", print \"last_year\" as well to compare them.\n",
        "\n",
        "📌 Use the .head() function to print the DataFrame \"last_year\"."
      ]
    },
    {
      "cell_type": "code",
      "execution_count": null,
      "id": "e719e841",
      "metadata": {
        "id": "e719e841"
      },
      "outputs": [],
      "source": [
        "#Use the .head() function to print the DataFrame \"last_year\"\n"
      ]
    },
    {
      "cell_type": "markdown",
      "id": "c98633be",
      "metadata": {
        "id": "c98633be"
      },
      "source": [
        "You notice that the column names of the two DataFrames are different. You need to fix this problem.\n",
        "\n",
        "📌 Assign the column names of \"last_year\" to \"current_year\" by using the *columns* attribute."
      ]
    },
    {
      "cell_type": "code",
      "execution_count": null,
      "id": "1b285acc",
      "metadata": {
        "id": "1b285acc"
      },
      "outputs": [],
      "source": [
        "#Use the columns attribute to assign the column names of \"last_year\" to \"current_year\"\n"
      ]
    },
    {
      "cell_type": "markdown",
      "id": "1377bf5f",
      "metadata": {
        "id": "1377bf5f"
      },
      "source": [
        "### Concatenate two DataFrames\n",
        "Now that the two DataFrames have the same column names, You can merge - or concatenate - them into a single DataFrame \"all_data\".\n",
        "\n",
        "📌 Use the .concat() function with the argument \"axis\" set to 0. Then display the DataFrame."
      ]
    },
    {
      "cell_type": "code",
      "execution_count": null,
      "id": "30fdf172",
      "metadata": {
        "id": "30fdf172"
      },
      "outputs": [],
      "source": [
        "#Use the .concat() function to concatenate the two DataFrames\n",
        "\n",
        "#Display the DataFrame \"all_data\"\n"
      ]
    },
    {
      "cell_type": "markdown",
      "id": "52fe2da3",
      "metadata": {
        "id": "52fe2da3"
      },
      "source": [
        "###Check the data\n",
        "\n",
        "This worked out well, but you noticed that the indexes are incorrect. You need to reset them.\n",
        "\n",
        "📌 Use the .reset_index() function. Set the arguments \"drop\" and \"inplace\" to \"True\". Then display the DataFrame."
      ]
    },
    {
      "cell_type": "code",
      "execution_count": null,
      "id": "b9cfaeff",
      "metadata": {
        "id": "b9cfaeff"
      },
      "outputs": [],
      "source": [
        "#Use the .reset_index() function to reset the indexes\n",
        "\n",
        "#Display the DataFrame \"all_data\"\n"
      ]
    },
    {
      "cell_type": "markdown",
      "id": "45dfd1c5",
      "metadata": {
        "id": "45dfd1c5"
      },
      "source": [
        "Next, you need to check the entries for missing values.\n",
        "\n",
        "📌 Use the isna.() and .any() function to see if there are missing values in the DataFrame."
      ]
    },
    {
      "cell_type": "code",
      "execution_count": null,
      "id": "66ab8074",
      "metadata": {
        "id": "66ab8074"
      },
      "outputs": [],
      "source": [
        "#Check the DataFrame for missing values\n"
      ]
    },
    {
      "cell_type": "markdown",
      "id": "9596dfbb",
      "metadata": {
        "id": "9596dfbb"
      },
      "source": [
        "From the output, you see that there are missing values in the columns \"Average deal size\" and \"Revenue\". You decide to fix this problem by filling the missing values using with the mean of the respective column.\n",
        "\n",
        "📌 Use the .fillna() function to fill the missing values. Use the .mean() function to set the argument \"value\" to the mean of \"all_data\". Again, set \"inplace\" to \"True\"."
      ]
    },
    {
      "cell_type": "code",
      "execution_count": null,
      "id": "9784b237",
      "metadata": {
        "id": "9784b237"
      },
      "outputs": [],
      "source": [
        "#Replace the missing values with the mean of the respective column\n",
        "\n",
        "#Display the DataFrame\n"
      ]
    },
    {
      "cell_type": "markdown",
      "id": "86e42100",
      "metadata": {
        "id": "86e42100"
      },
      "source": [
        "Also, there may be some duplicated rows, you need to drop them.\n",
        "\n",
        "📌 Use the .drop_duplicates() method to remove any duplicated rows.\n",
        "\n",
        "📌 Reset the indexes again using the reset_index() function."
      ]
    },
    {
      "cell_type": "code",
      "execution_count": null,
      "id": "5c8b0e48",
      "metadata": {
        "id": "5c8b0e48"
      },
      "outputs": [],
      "source": [
        "#Drop the duplicates\n",
        "\n",
        "#Reset the indexes\n",
        "\n",
        "#Display the DataFrame \n"
      ]
    },
    {
      "cell_type": "markdown",
      "id": "cd7cfeb5",
      "metadata": {
        "id": "cd7cfeb5"
      },
      "source": [
        "### Data analysis\n",
        "#### Statistical analysis\n",
        "The DataFrame is ready, great!\n",
        "\n",
        "Now you can use it to analyse the overall performance of the employees over the last two years. You prepare a summary of the statistics.\n",
        "\n",
        "📌 Use the .describe() method."
      ]
    },
    {
      "cell_type": "code",
      "execution_count": null,
      "id": "1b306146",
      "metadata": {
        "id": "1b306146"
      },
      "outputs": [],
      "source": [
        "#Use the .descrbe() method to get a summary of the statistics\n"
      ]
    },
    {
      "cell_type": "markdown",
      "id": "24af4eca",
      "metadata": {
        "id": "24af4eca"
      },
      "source": [
        "You can do the same for each year separately. \n",
        "\n",
        "📌 Prepare a summary of the statistics for the data from 2021.\n",
        "\n",
        "📌 Prepare a summary of the statistics for the data from 2022."
      ]
    },
    {
      "cell_type": "code",
      "execution_count": null,
      "id": "0509947e",
      "metadata": {
        "id": "0509947e"
      },
      "outputs": [],
      "source": [
        "#Use the .descrbe() method to get a summary of the statistics for 2021\n",
        "\n",
        "#Use the .descrbe() method to get a summary of the statistics for 2022\n"
      ]
    },
    {
      "cell_type": "markdown",
      "id": "45b770e8",
      "metadata": {
        "id": "45b770e8"
      },
      "source": [
        "#### Ranking of the employees by revenue\n",
        "You also want to rank the employees by the generated revenue. \n",
        "\n",
        "📌 Use the .sort_values() method to sort the values by the column “Revenue”.\n"
      ]
    },
    {
      "cell_type": "code",
      "execution_count": null,
      "id": "5e161229",
      "metadata": {
        "id": "5e161229"
      },
      "outputs": [],
      "source": [
        "#Sort the DataFrame by the column \"Revenue\"\n"
      ]
    },
    {
      "cell_type": "markdown",
      "source": [
        "As you did with the .describe() function, you can also use conditions to filter information. \n",
        "\n",
        "📌 Sort the revenue values of 2022."
      ],
      "metadata": {
        "id": "BeOqqCKjPqI2"
      },
      "id": "BeOqqCKjPqI2"
    },
    {
      "cell_type": "code",
      "execution_count": null,
      "id": "dc96cf9a",
      "metadata": {
        "id": "dc96cf9a"
      },
      "outputs": [],
      "source": [
        "#Sort the revenue values od 2022\n"
      ]
    },
    {
      "cell_type": "markdown",
      "id": "ad9997c7",
      "metadata": {
        "id": "ad9997c7"
      },
      "source": [
        "#### How many years of employment?\n",
        "\n",
        "Finally, you can count how many times an employee appears in the DataFrame to determine which employee has worked for the company for two years.\n",
        "\n",
        "📌 Use the value_counts() function for the column \"Name\"."
      ]
    },
    {
      "cell_type": "code",
      "execution_count": null,
      "id": "167f8fbc",
      "metadata": {
        "id": "167f8fbc"
      },
      "outputs": [],
      "source": [
        "#Count how often the names of the employees appear in the DataFrame\n"
      ]
    }
  ],
  "metadata": {
    "kernelspec": {
      "display_name": "Python 3",
      "language": "python",
      "name": "python3"
    },
    "language_info": {
      "codemirror_mode": {
        "name": "ipython",
        "version": 3
      },
      "file_extension": ".py",
      "mimetype": "text/x-python",
      "name": "python",
      "nbconvert_exporter": "python",
      "pygments_lexer": "ipython3",
      "version": "3.8.8"
    },
    "colab": {
      "provenance": [],
      "collapsed_sections": [],
      "include_colab_link": true
    }
  },
  "nbformat": 4,
  "nbformat_minor": 5
}